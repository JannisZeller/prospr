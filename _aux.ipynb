{
 "cells": [
  {
   "attachments": {},
   "cell_type": "markdown",
   "metadata": {},
   "source": [
    "# Auxiliary Tests\n",
    "\n",
    "This notebook contains some tests to probe the behaviour of the used operations.\n",
    "\n",
    "---"
   ]
  },
  {
   "cell_type": "code",
   "execution_count": 29,
   "metadata": {},
   "outputs": [],
   "source": [
    "import numpy as np\n",
    "import tensorflow as tf\n",
    "import tensorflow.keras as keras\n",
    "import tensorflow.keras.layers as layers\n",
    "\n",
    "import src.wrappers as wrp\n",
    "\n",
    "import os\n",
    "os.environ['TF_CPP_MIN_LOG_LEVEL'] = '3' "
   ]
  },
  {
   "attachments": {},
   "cell_type": "markdown",
   "metadata": {},
   "source": [
    "## Jacobian-Vector-Product / Gradient Trick\n",
    "\n",
    "For example consider $\\mathbf x = (1, 2, 3) \\in \\mathbb R^3$ and \n",
    "$$\n",
    "    f: \\mathbb R^3 \\to \\mathbb R, \\ x\\mapsto x_0^3+x_1^3+x_2^3 + 2x_0x_1x_2\\, .\n",
    "$$\n",
    "Then Gradient, Hessian, and Hessian-Gradient-Product can be calculated as shown below:"
   ]
  },
  {
   "cell_type": "code",
   "execution_count": 30,
   "metadata": {},
   "outputs": [
    {
     "name": "stdout",
     "output_type": "stream",
     "text": [
      "Gradient: [15. 18. 31.]\n",
      "Hessian:\n",
      " [[ 6.  6.  4.]\n",
      " [ 6. 12.  2.]\n",
      " [ 4.  2. 18.]]\n",
      "Rowsums of Hessian: [16. 20. 24.]\n",
      "Hessian times Gradient Explicitly:\n",
      " [322. 368. 654.]\n",
      "Hessian times Gradient Implicitly:\n",
      " [322. 368. 654.]\n"
     ]
    }
   ],
   "source": [
    "## Testing Tape Behaviour\n",
    "x = tf.Variable([1., 2., 3.])\n",
    "with tf.GradientTape(persistent=True) as outer_tape:\n",
    "    with tf.GradientTape() as tape:\n",
    "       y = tf.reduce_sum(x ** 3.) + 2*tf.reduce_prod(x)\n",
    "    grad  = tape.gradient(y, x)\n",
    "    int_H = tf.reduce_sum(grad * tf.stop_gradient(grad))\n",
    "hess = outer_tape.jacobian(grad, x)\n",
    "hess_rowsums = outer_tape.gradient(grad, x)\n",
    "hess_x_grad = outer_tape.gradient(int_H, x)\n",
    "\n",
    "print(\"Gradient:\", grad.numpy())\n",
    "print(\"Hessian:\\n\", hess.numpy())\n",
    "print(\"Rowsums of Hessian:\", hess_rowsums.numpy())\n",
    "print(\"Hessian times Gradient Explicitly:\\n\", \n",
    "    tf.matmul([hess], tf.transpose([grad])).numpy().flatten())\n",
    "print(\"Hessian times Gradient Implicitly:\\n\",\n",
    "    hess_x_grad.numpy())"
   ]
  },
  {
   "attachments": {},
   "cell_type": "markdown",
   "metadata": {},
   "source": [
    "Instead of using a usual `GradientTape` one can also use a `ForwardAccumulator` which is able of directly calculating jacobina-vector-products and therefore also hessian-gradient-products (see the [docs](https://www.tensorflow.org/api_docs/python/tf/autodiff/ForwardAccumulator)). Yet for doing so, we already need the gradient to pass it as `tangents` to the `ForwardAccumulator`. This is less efficient when having lots of weights."
   ]
  },
  {
   "cell_type": "code",
   "execution_count": 31,
   "metadata": {},
   "outputs": [
    {
     "name": "stdout",
     "output_type": "stream",
     "text": [
      "Hessian-x-Gradient via. `ForwardAccumulator`_\n",
      " [322. 368. 654.]\n"
     ]
    }
   ],
   "source": [
    "with tf.autodiff.ForwardAccumulator(x, grad) as acc:\n",
    "    with tf.GradientTape() as tape:\n",
    "        y = tf.reduce_sum(x ** 3.) + 2*tf.reduce_prod(x)\n",
    "    grad2 = tape.gradient(y, x)\n",
    "print(\"Hessian-x-Gradient via. `ForwardAccumulator`_\\n\",\n",
    "    acc.jvp(grad2).numpy())  # forward-over-backward Hessian-vector product"
   ]
  },
  {
   "attachments": {},
   "cell_type": "markdown",
   "metadata": {},
   "source": [
    "---\n",
    "\n",
    "## Jacobians and Shapes"
   ]
  },
  {
   "cell_type": "code",
   "execution_count": 32,
   "metadata": {},
   "outputs": [],
   "source": [
    "w = tf.Variable(tf.random.normal(shape=[10, 15]), dtype=tf.float32)\n",
    "c = tf.Variable(tf.random.normal(shape= w.shape), dtype=tf.float32)\n",
    "\n",
    "with tf.GradientTape() as tape:\n",
    "    w0 = c * w\n",
    "jac = tape.jacobian(w0, c)\n",
    "\n",
    "w0 = tf.Variable(w0, dtype=tf.float32)\n",
    "with tf.GradientTape() as tape:\n",
    "    w1 = 1. + 2. * w0\n",
    "jac1 = tape.jacobian(w1, w0)\n",
    "\n",
    "jp = (jac * jac1).numpy()"
   ]
  },
  {
   "cell_type": "code",
   "execution_count": 28,
   "metadata": {},
   "outputs": [
    {
     "data": {
      "text/plain": [
       "TensorShape([10, 15, 10, 15])"
      ]
     },
     "execution_count": 28,
     "metadata": {},
     "output_type": "execute_result"
    }
   ],
   "source": []
  },
  {
   "attachments": {},
   "cell_type": "markdown",
   "metadata": {},
   "source": [
    "---"
   ]
  },
  {
   "attachments": {},
   "cell_type": "markdown",
   "metadata": {},
   "source": [
    "## Keras Reproducability\n",
    "\n",
    "Assessing reproducability in `tf.keras`. The scipt below shows, that the training can be made deterministic to some extent, by setting random seeds. Yet note that with larger learning rates the deviations grow."
   ]
  },
  {
   "cell_type": "code",
   "execution_count": 70,
   "metadata": {},
   "outputs": [],
   "source": [
    "## Fetch Mnist-Dataset\n",
    "np.random.seed(42)\n",
    "(X_train, y_train), (X_test, y_test) = wrp.load_mnist() # 10000\n",
    "num_classes = 10\n",
    "## Pad to LeNet-Input-Shape\n",
    "X_train = np.pad(X_train, ((0,0),(2,2),(2,2),(0,0)), 'constant')\n",
    "X_test  = np.pad(X_test,  ((0,0),(2,2),(2,2),(0,0)), 'constant')\n",
    "batch_size = 512"
   ]
  },
  {
   "cell_type": "code",
   "execution_count": 71,
   "metadata": {},
   "outputs": [],
   "source": [
    "def get_model():\n",
    "    return keras.Sequential([\n",
    "        layers.Conv2D(filters=6, kernel_size=(3, 3), activation='relu', \n",
    "            input_shape=X_train.shape[1:]),\n",
    "        layers.AveragePooling2D(),\n",
    "        layers.Conv2D(filters=16, kernel_size=(3, 3), activation='relu'),\n",
    "        layers.AveragePooling2D(),\n",
    "        layers.Flatten(),\n",
    "        layers.Dense(units=120, activation='relu'),\n",
    "        layers.Dense(units=84, activation='relu'),\n",
    "        layers.Dense(units=10, activation = 'softmax')\n",
    "    ])"
   ]
  },
  {
   "attachments": {},
   "cell_type": "markdown",
   "metadata": {},
   "source": [
    "Generating Model and storing initial weights"
   ]
  },
  {
   "cell_type": "code",
   "execution_count": 72,
   "metadata": {},
   "outputs": [],
   "source": [
    "model1 = get_model()\n",
    "loss_fn1 = keras.losses.CategoricalCrossentropy()"
   ]
  },
  {
   "cell_type": "code",
   "execution_count": 73,
   "metadata": {},
   "outputs": [],
   "source": [
    "w_init = model1.get_weights()\n",
    "lr = 0.05\n",
    "steps = np.arange(500)"
   ]
  },
  {
   "attachments": {},
   "cell_type": "markdown",
   "metadata": {},
   "source": [
    "Training Model 1:"
   ]
  },
  {
   "cell_type": "code",
   "execution_count": 74,
   "metadata": {},
   "outputs": [
    {
     "name": "stdout",
     "output_type": "stream",
     "text": [
      "Step 500 -- Loss: 0.249\r"
     ]
    }
   ],
   "source": [
    "## Using a custom loop for full control\n",
    "tf.random.set_seed(42)\n",
    "np.random.seed(42)\n",
    "loss1 = []\n",
    "for n in steps:\n",
    "    X_batch, y_batch = wrp.non_random_batch(X_train, y_train, n, batch_size)\n",
    "    with tf.GradientTape() as inner_tape:\n",
    "        y_pred = model1(X_batch)\n",
    "        main_loss = tf.reduce_mean(loss_fn1(y_batch, y_pred))\n",
    "        loss = tf.add_n([main_loss] + model1.losses)\n",
    "    gradients = inner_tape.gradient(loss, model1.trainable_weights)\n",
    "    for w, g in zip(model1.trainable_weights, gradients):\n",
    "        w.assign(w - lr*g)\n",
    "\n",
    "    loss1.append(loss.numpy())\n",
    "    print(f\"Step {n+1} -- Loss: {loss1[-1]:.3f}\", end=\"\\r\")\n",
    "weights1 = model1.get_weights()"
   ]
  },
  {
   "attachments": {},
   "cell_type": "markdown",
   "metadata": {},
   "source": [
    "Generating and training Model 2"
   ]
  },
  {
   "cell_type": "code",
   "execution_count": 75,
   "metadata": {},
   "outputs": [],
   "source": [
    "model2 = keras.models.clone_model(model1)\n",
    "model2.set_weights(w_init)"
   ]
  },
  {
   "cell_type": "code",
   "execution_count": 76,
   "metadata": {},
   "outputs": [
    {
     "name": "stdout",
     "output_type": "stream",
     "text": [
      "Step 500 -- Loss: 0.251\r"
     ]
    }
   ],
   "source": [
    "## Using a custom loop for full control\n",
    "tf.random.set_seed(42)\n",
    "np.random.seed(42)\n",
    "loss2 = []\n",
    "for n in steps:\n",
    "    X_batch, y_batch = wrp.non_random_batch(X_train, y_train, n, batch_size)\n",
    "    with tf.GradientTape() as inner_tape:\n",
    "        y_pred = model2(X_batch)\n",
    "        main_loss = tf.reduce_mean(loss_fn1(y_batch, y_pred))\n",
    "        loss = tf.add_n([main_loss] + model2.losses)\n",
    "    gradients = inner_tape.gradient(loss, model2.trainable_weights)\n",
    "    for w, g in zip(model2.trainable_weights, gradients):\n",
    "        w.assign(w - lr*g)\n",
    "\n",
    "    loss2.append(loss.numpy())\n",
    "    print(f\"Step {n+1} -- Loss: {loss2[-1]:.3f}\", end=\"\\r\")\n",
    "weights2 = model2.get_weights()"
   ]
  },
  {
   "attachments": {},
   "cell_type": "markdown",
   "metadata": {},
   "source": [
    "Comparing Weights"
   ]
  },
  {
   "cell_type": "code",
   "execution_count": 77,
   "metadata": {},
   "outputs": [
    {
     "name": "stdout",
     "output_type": "stream",
     "text": [
      "Mean rel. Deviations:\n",
      "0.0030; 0.3742; 0.0063; 0.0344; 0.0075; 0.0263; 0.0093; 0.0628; 0.0150; 0.0050; \n",
      "All Close:\n",
      "False; False; False; False; False; False; False; False; False; False; "
     ]
    }
   ],
   "source": [
    "print(\"Mean rel. Deviations:\")\n",
    "mrds = [wrp.mean_rel_diff(w1, w2) for w1, w2 in zip(weights1, weights2)]\n",
    "_ = [print(f\"{mrd:.4f}\", end=\"; \") for mrd in mrds]\n",
    "print(\"\\nAll Close:\")\n",
    "_ = [print(np.allclose(w1, w2), end=\"; \") for w1, w2 in zip(weights1, weights2)]"
   ]
  },
  {
   "attachments": {},
   "cell_type": "markdown",
   "metadata": {},
   "source": [
    "Comparing Predictions"
   ]
  },
  {
   "cell_type": "code",
   "execution_count": 78,
   "metadata": {},
   "outputs": [
    {
     "name": "stdout",
     "output_type": "stream",
     "text": [
      "Predictions equivalen for 99.8 % of the cases.\n"
     ]
    }
   ],
   "source": [
    "y_pred1 = np.argmax(model1.predict(X_test), axis=1)\n",
    "y_pred2 = np.argmax(model2.predict(X_test), axis=1)\n",
    "\n",
    "print(f\"Predictions equivalen for {np.mean(y_pred1 == y_pred2)*100:.1f} % of the cases.\")\n"
   ]
  },
  {
   "attachments": {},
   "cell_type": "markdown",
   "metadata": {},
   "source": [
    "Comparing Fit History / Losses"
   ]
  },
  {
   "cell_type": "code",
   "execution_count": 79,
   "metadata": {},
   "outputs": [
    {
     "data": {
      "image/png": "[encoded data removed]",
      "text/plain": [
       "<Figure size 1152x720 with 1 Axes>"
      ]
     },
     "metadata": {
      "needs_background": "light"
     },
     "output_type": "display_data"
    }
   ],
   "source": [
    "import matplotlib.pyplot as plt\n",
    "\n",
    "fig, ax = plt.subplots(figsize=(16, 10))\n",
    "ax.set_title(\"Loss vs. Step\", fontsize=22)\n",
    "ax.plot(steps, loss1, \"r-\",  label=\"loss 1\")\n",
    "ax.plot(steps, loss2, \"g-\",  label=\"loss 2\")\n",
    "ax.set_xlabel(\"Steps\")\n",
    "ax.set_ylabel(\"Loss - Categorical Crossentropy\")\n",
    "leg = ax.legend(frameon=True, fontsize=18)"
   ]
  }
 ],
 "metadata": {
  "kernelspec": {
   "display_name": "tensorflow-gpu",
   "language": "python",
   "name": "python3"
  },
  "language_info": {
   "codemirror_mode": {
    "name": "ipython",
    "version": 3
   },
   "file_extension": ".py",
   "mimetype": "text/x-python",
   "name": "python",
   "nbconvert_exporter": "python",
   "pygments_lexer": "ipython3",
   "version": "3.9.12"
  },
  "orig_nbformat": 4,
  "vscode": {
   "interpreter": {
    "hash": "9da7387ac238462230b0dbd9bf3fc9372aae1b82f76d8141914412c04a1575e6"
   }
  }
 },
 "nbformat": 4,
 "nbformat_minor": 2
}
