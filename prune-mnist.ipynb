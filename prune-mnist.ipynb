{
 "cells": [
  {
   "attachments": {},
   "cell_type": "markdown",
   "metadata": {},
   "source": [
    "# Pruning Neural Networks at Init\n",
    "\n",
    "---\n",
    "\n",
    "This is a take at pruning Networks before training on MNIST data. The Notebook explains the used operations etc."
   ]
  },
  {
   "attachments": {},
   "cell_type": "markdown",
   "metadata": {},
   "source": [
    "## Imports and Data-Preparation"
   ]
  },
  {
   "cell_type": "code",
   "execution_count": 1,
   "metadata": {},
   "outputs": [],
   "source": [
    "## Settings\n",
    "model_type = \"LeNet5\"  ## Choice of \"LeNet5\" and \"Dense\""
   ]
  },
  {
   "cell_type": "code",
   "execution_count": 2,
   "metadata": {},
   "outputs": [],
   "source": [
    "## Tensorflow related\n",
    "import tensorflow as tf\n",
    "import tensorflow.keras as keras\n",
    "import tensorflow.keras.layers as layers\n",
    "from tensorflow.keras.layers import Conv2D, Dense\n",
    "\n",
    "## General\n",
    "import numpy as np\n",
    "import matplotlib.pyplot as plt\n",
    "from tqdm import tqdm\n",
    "\n",
    "## Importing Pruned Model\n",
    "import sys; \n",
    "if \"..\\\\\" not in sys.path: sys.path.append(\"..\\\\\")\n",
    "import src.masked_keras as msk\n",
    "import src.wrappers as wrp"
   ]
  },
  {
   "cell_type": "code",
   "execution_count": 3,
   "metadata": {},
   "outputs": [],
   "source": [
    "from importlib import reload\n",
    "wrp = reload(wrp)\n",
    "msk = reload(msk)"
   ]
  },
  {
   "cell_type": "code",
   "execution_count": 4,
   "metadata": {},
   "outputs": [],
   "source": [
    "## Fetch Mnist-Dataset\n",
    "(X_train, y_train), (X_test, y_test) = wrp.load_mnist() # 10000\n",
    "num_classes = 10\n",
    "## Pad if necessairy\n",
    "if model_type == \"LeNet5\":\n",
    "    X_train = np.pad(X_train, ((0,0),(2,2),(2,2),(0,0)), 'constant')\n",
    "    X_test  = np.pad(X_test,  ((0,0),(2,2),(2,2),(0,0)), 'constant')"
   ]
  },
  {
   "attachments": {},
   "cell_type": "markdown",
   "metadata": {},
   "source": [
    "---"
   ]
  },
  {
   "attachments": {},
   "cell_type": "markdown",
   "metadata": {},
   "source": [
    "## Defining the Model, Loss, and Optimizer"
   ]
  },
  {
   "cell_type": "code",
   "execution_count": 5,
   "metadata": {},
   "outputs": [],
   "source": [
    "## Defining the Model with Sequential API\n",
    "if model_type == \"Dense\":\n",
    "    def get_model():\n",
    "        return keras.Sequential([\n",
    "            layers.Flatten(input_shape=X_train.shape[1:]),\n",
    "            layers.Dense(128, activation=\"relu\"),\n",
    "            layers.Dense(128, activation=\"relu\"),\n",
    "            layers.Dense(128, activation=\"relu\"),\n",
    "            layers.Dense(num_classes, activation=\"softmax\")\n",
    "        ])\n",
    "\n",
    "if model_type == \"LeNet5\":\n",
    "    def get_model():\n",
    "        return keras.Sequential([\n",
    "            layers.Conv2D(filters=6, kernel_size=(3, 3), activation='relu', \n",
    "                input_shape=X_train.shape[1:]),\n",
    "            layers.AveragePooling2D(),\n",
    "            layers.Conv2D(filters=16, kernel_size=(3, 3), activation='relu'),\n",
    "            layers.AveragePooling2D(),\n",
    "            layers.Flatten(),\n",
    "            # layers.Dense(units=120, activation='relu'),\n",
    "            layers.Dense(units=84, activation='relu'),\n",
    "            layers.Dense(units=10, activation = 'softmax')\n",
    "        ])\n",
    "\n",
    "## Extract init-model weights for training after pruning\n",
    "model = get_model()\n",
    "w_init = model.get_weights()"
   ]
  },
  {
   "cell_type": "code",
   "execution_count": 6,
   "metadata": {},
   "outputs": [],
   "source": [
    "loss_fn = keras.losses.CategoricalCrossentropy()"
   ]
  },
  {
   "cell_type": "code",
   "execution_count": 7,
   "metadata": {},
   "outputs": [
    {
     "data": {
      "text/plain": [
       "0.1"
      ]
     },
     "execution_count": 7,
     "metadata": {},
     "output_type": "execute_result"
    }
   ],
   "source": [
    "np.round(wrp.simple_accuracy(model, X_test, y_test), 2)"
   ]
  },
  {
   "cell_type": "code",
   "execution_count": 8,
   "metadata": {},
   "outputs": [
    {
     "name": "stdout",
     "output_type": "stream",
     "text": [
      "Test-Accuracy at init: 0.10\n"
     ]
    }
   ],
   "source": [
    "print(f\"Test-Accuracy at init: {wrp.simple_accuracy(model, X_test, y_test):.2f}\")"
   ]
  },
  {
   "attachments": {},
   "cell_type": "markdown",
   "metadata": {},
   "source": [
    "---"
   ]
  },
  {
   "attachments": {},
   "cell_type": "markdown",
   "metadata": {},
   "source": [
    "## GraSP Pruning\n",
    "\n",
    "Pruning logic by from [Wang, et al. (2020)](https://openreview.net/pdf?id=SkgsACVKPH). They exploit the following property: Let $N, F\\in \\mathbb N$\n",
    "$$\n",
    "    \\mathbf f:\\mathbb R^F \\to \\mathbb R^N, \\ \\mathbf x \\mapsto \\mathbf f(\\mathbf x)\\, .\n",
    "$$\n",
    "Furthermore let $\\mathbf v \\in \\mathbb R^F$, such that $\\mathbf f(\\mathbf x)^T\\mathbf v \\in \\mathbb R$. Then\n",
    "$$\\begin{align*}\n",
    "    \\Big[ \\nabla_{\\mathbf x} \\big(\\mathbf f(\\mathbf x)^T \\mathbf v\\big)\\Big]_i &= \\frac{\\partial}{\\partial x_i} \\big(\\mathbf f(\\mathbf x)^T \\mathbf v\\big) = \\frac{\\partial}{\\partial x_i} \\sum_{j=1}^N f_j(\\mathbf x) v_j \\\\\n",
    "    &= \\sum_{j=1}^N \\frac{\\partial f_j(\\mathbf x)}{\\partial x_i} v_j = \\big[ D\\mathbf f(\\mathbf x)^T \\,\\mathbf v \\big]_i \\, .\n",
    "\\end{align*}$$\n",
    "This can be used to calculate Jacobian-vector-producs using only gradients. Specifically for $\\mathbf f$ being the gradient of some scalar function $\\varphi(\\mathbf x)$ this yields for the Hessian-vector-product (Hessians are symmetric under smoothness conditions):\n",
    "$$\n",
    "    H\\varphi(\\mathbf x) \\, \\mathbf v = \\nabla \\Big( \\nabla \\varphi^T \\mathbf v \\Big)\\, .\n",
    "$$\n",
    "Using the gradient but already evaluated at some $\\mathbf x_0$ (equiv to <span style=\"color:#4bc9b0;font-family:'CaskaydiaCove NF', 'Cascadia Code', Consolas, monospace\">tf</span><span style=\"color:white;font-family:'CaskaydiaCove NF', 'Cascadia Code', Consolas, monospace\">.</span><span style=\"color:#dcdcaa;font-family:'CaskaydiaCove NF', 'Cascadia Code', Consolas, monospace\">stop_gradient</span>) this yields the formula used in the paper (p. 5). This is then called the Hessian-gradient product, i. e. <span style=\"color:#9cdcfe;font-family:'CaskaydiaCove NF', 'Cascadia Code', Consolas, monospace\">Hvp</span>.\n",
    "\n",
    "Maybe also take a look at the minimal example in the [auxiliary notebook](./_aux.ipynb). Below I show how to also calulate the <span style=\"color:#9cdcfe;font-family:'CaskaydiaCove NF', 'Cascadia Code', Consolas, monospace\">Hvp</span> using a <span style=\"color:#4bc9b0;font-family:'CaskaydiaCove NF', 'Cascadia Code', Consolas, monospace\">Forward</span><span style=\"color:white;font-family:'CaskaydiaCove NF', 'Cascadia Code', Consolas, monospace\">.</span><span style=\"color:#dcdcaa;font-family:'CaskaydiaCove NF', 'Cascadia Code', Consolas, monospace\">Accumulator</span> which explicitly implements jacobian-vector-products. "
   ]
  },
  {
   "cell_type": "code",
   "execution_count": 9,
   "metadata": {},
   "outputs": [],
   "source": [
    "## Reset Model\n",
    "model = get_model()\n",
    "model.set_weights(w_init)\n",
    "\n",
    "## GraSp batch:\n",
    "X_grasp, y_grasp = wrp.random_batch(X_train, y_train, batch_size=512)"
   ]
  },
  {
   "cell_type": "code",
   "execution_count": 10,
   "metadata": {},
   "outputs": [],
   "source": [
    "## Pruning Scores:\n",
    "with tf.GradientTape(persistent=True) as outer_tape:\n",
    "    with tf.GradientTape() as inner_tape:\n",
    "        y_pred = model(X_grasp)\n",
    "        loss = loss_fn(y_grasp, y_pred)\n",
    "    gradients = inner_tape.gradient(loss, model.trainable_variables)\n",
    "    int_Hgp = tf.reduce_sum([tf.reduce_sum(g * tf.stop_gradient(g)) for g in gradients])\n",
    "Hgps = outer_tape.gradient(int_Hgp, model.trainable_variables)"
   ]
  },
  {
   "cell_type": "code",
   "execution_count": 11,
   "metadata": {},
   "outputs": [],
   "source": [
    "## Plain Hessian-gradient-product\n",
    "with tf.autodiff.ForwardAccumulator(\n",
    "    model.trainable_variables,\n",
    "    gradients) as acc:\n",
    "    with tf.GradientTape() as tape:\n",
    "        y_pred = model(X_grasp)\n",
    "        loss = loss_fn(y_grasp, y_pred)\n",
    "    gradients_new = tape.gradient(loss, model.trainable_variables)\n",
    "Hgps_acc = acc.jvp(gradients_new)"
   ]
  },
  {
   "cell_type": "code",
   "execution_count": 12,
   "metadata": {},
   "outputs": [
    {
     "data": {
      "text/plain": [
       "[True, True, True, True, True, True, True, True]"
      ]
     },
     "execution_count": 12,
     "metadata": {},
     "output_type": "execute_result"
    }
   ],
   "source": [
    "[np.allclose(Hgp1, Hgp2) for Hgp1, Hgp2 in zip(Hgps, Hgps_acc)]"
   ]
  },
  {
   "cell_type": "code",
   "execution_count": 13,
   "metadata": {},
   "outputs": [],
   "source": [
    "## Calculating the scores:\n",
    "grasp_scores = [w*Hgp for w, Hgp in zip(model.trainable_weights, Hgps)]"
   ]
  },
  {
   "attachments": {},
   "cell_type": "markdown",
   "metadata": {},
   "source": [
    "## Train a GraSP-pruned Model"
   ]
  },
  {
   "cell_type": "code",
   "execution_count": 14,
   "metadata": {},
   "outputs": [
    {
     "name": "stdout",
     "output_type": "stream",
     "text": [
      "Accuracy at init: 0.10\n"
     ]
    }
   ],
   "source": [
    "grasp_masks = wrp.generate_pruning_mask(grasp_scores, sparsity=0.9)\n",
    "\n",
    "keras.backend.clear_session()\n",
    "grasp_kernel = get_model()\n",
    "grasp_kernel.set_weights(w_init)\n",
    "grasp_model = msk.StaticMaskedModel(grasp_masks, grasp_kernel)\n",
    "print(f\"Accuracy at init: {wrp.simple_accuracy(grasp_model, X_test, y_test):.2f}\")"
   ]
  },
  {
   "cell_type": "code",
   "execution_count": 15,
   "metadata": {},
   "outputs": [],
   "source": [
    "grasp_model.compile(\n",
    "    optimizer=keras.optimizers.Adam(),\n",
    "    loss=loss_fn,\n",
    "    metrics=[\"accuracy\"]\n",
    ")"
   ]
  },
  {
   "cell_type": "code",
   "execution_count": 16,
   "metadata": {},
   "outputs": [],
   "source": [
    "# pruned_fit = grasp_model.fit(\n",
    "#     X_train, y_train,\n",
    "#     validation_data=(X_test, y_test),\n",
    "#     epochs=1,\n",
    "#     batch_size=128,\n",
    "#     verbose=1\n",
    "# )"
   ]
  },
  {
   "attachments": {},
   "cell_type": "markdown",
   "metadata": {},
   "source": [
    "---"
   ]
  },
  {
   "attachments": {},
   "cell_type": "markdown",
   "metadata": {},
   "source": [
    "## ProsPr Pruning\n",
    "\n",
    "Pruning logic from [Alizadeh et al. (2022)](https://arxiv.org/pdf/2202.08132.pdf), but taking care of the pruning step-wise. Custom training loop modified from [Géron (2019)](https://www.oreilly.com/library/view/hands-on-machine-learning/9781492032632/). \n",
    "\n",
    "### Plain-Meta Gradient\n",
    "\n",
    "First I implement the meta-gradient as stated in the reference:\n",
    "$$\n",
    "    g = \\frac{\\partial}{\\partial c} \\mathcal L(\\mathbf{w}_M) = \\frac{\\partial \\mathcal L(\\mathbf{w}_M)}{\\partial \\mathbf{w}_M} \\Bigg[ \\prod_{m=1}^M \\underbrace{\\frac{\\partial \\mathbf{w}_m}{\\partial \\mathbf{w}_{m-1}}}_{\\Gamma_m} \\Bigg] \\cdot \\mathbf{w}_{\\textsf{init}}\n",
    "$$\n",
    "To enable the autodiff engine to keep track of the masks ($c$'s), it is necessairy to override the forward passes of the model's layers such that the inputs are directly affected by the weights and they can be used as model-parameters. Yet this should only happen for the first batch (cf. Alizadeh et al., 2022, pp. 3-4).\n",
    "\n",
    "I use a customized \"prune loop\" through the pruning batches where only the \"proper weights\" ($\\mathbf w$'s) get updated. As stated in the paper, this procedure only allows for a limited number of passes through the batched, because the backpropagation will run out of memory at some point; not that the backpropagation pass for the meta-gradient has to pass through all $M$ forward steps of the \"prune loop\". This implementation allows for other `keras.optimizers` to be used."
   ]
  },
  {
   "cell_type": "code",
   "execution_count": 17,
   "metadata": {},
   "outputs": [
    {
     "name": "stdout",
     "output_type": "stream",
     "text": [
      "tf.Tensor([16.], shape=(1,), dtype=float32)\n",
      "None\n"
     ]
    }
   ],
   "source": [
    "w = tf.Variable([4.])\n",
    "c = tf.Variable([2.])\n",
    "\n",
    "with tf.GradientTape() as tape:\n",
    "    tape.watch(c)\n",
    "    w.assign(w * c)\n",
    "    output = 2. * w\n",
    "\n",
    "print(output)\n",
    "print(tape.gradient(output, c)) "
   ]
  },
  {
   "attachments": {},
   "cell_type": "markdown",
   "metadata": {},
   "source": [
    "---"
   ]
  },
  {
   "cell_type": "code",
   "execution_count": 18,
   "metadata": {},
   "outputs": [
    {
     "name": "stdout",
     "output_type": "stream",
     "text": [
      "Masking <keras.layers.convolutional.Conv2D object at 0x00000257C854E100>\n",
      "Masking <keras.layers.convolutional.Conv2D object at 0x000002597CC4DCD0>\n",
      "Masking <keras.layers.core.Dense object at 0x000002597CC1EC40>\n",
      "Masking <keras.layers.core.Dense object at 0x000002597CC1E490>\n"
     ]
    }
   ],
   "source": [
    "mask_factor = 1.\n",
    "model = get_model()\n",
    "model.set_weights(w_init)\n",
    "full_masks = [mask_factor*tf.ones_like(w) for w in model.trainable_weights]\n",
    "masked_model = msk.TrackableMaskedModel(full_masks, model)\n",
    "optimizer=keras.optimizers.SGD(learning_rate=0.05)"
   ]
  },
  {
   "cell_type": "code",
   "execution_count": 19,
   "metadata": {},
   "outputs": [],
   "source": [
    "## Checking if `first_call` reset works\n",
    "#  To use this cell, set `mask_factor` to something apart from 1.\n",
    "if False:\n",
    "    X_batch, y_batch = wrp.non_random_batch(X_train, y_train, 0, 256)\n",
    "    w_names_old = [w.name for w in masked_model.trainable_weights]\n",
    "    test1 = masked_model.layers[0].layers[0](X_batch)\n",
    "    _ = masked_model(X_batch)\n",
    "    masked_model.unmask_forward_passes()\n",
    "    test2 = masked_model.layers[0].layers[0](X_batch)\n",
    "    print(\"All suitable?\", np.all(test1 == mask_factor*test2))\n",
    "    print(\"Trainable vars kept?\", \n",
    "        w_names_old == [w.name for w in masked_model.trainable_weights])"
   ]
  },
  {
   "cell_type": "code",
   "execution_count": 20,
   "metadata": {},
   "outputs": [
    {
     "name": "stdout",
     "output_type": "stream",
     "text": [
      "ListWrapper([None, None, None, None, None, None, None, None])\n",
      "None\n"
     ]
    }
   ],
   "source": [
    "test_factor = tf.Variable(1., dtype=tf.float32)\n",
    "with tf.GradientTape(persistent=True) as outer_tape:\n",
    "    outer_tape.watch(masked_model.masks)\n",
    "    outer_tape.watch(test_factor)\n",
    "\n",
    "    ## First btach\n",
    "    X_batch, y_batch = wrp.non_random_batch(X_train, y_train, 0, 256)\n",
    "    with tf.GradientTape() as tape1:\n",
    "        y_pred = masked_model(X_batch)\n",
    "        loss = test_factor*loss_fn(y_batch, y_pred)\n",
    "    gradients = tape1.gradient(loss, masked_model.proper_weights)\n",
    "\n",
    "    ## Updating weights\n",
    "    for w, g in zip(masked_model.proper_weights, gradients):\n",
    "        w.assign(w - 0.05*g)\n",
    "\n",
    "    ## Unmasking\n",
    "    masked_model.unmask_forward_passes()\n",
    "\n",
    "    ## Second batch (and more)\n",
    "    X_batch, y_batch = wrp.non_random_batch(X_train, y_train, 1, 256)\n",
    "    with tf.GradientTape() as tape2:\n",
    "        y_pred = masked_model(X_batch)\n",
    "        loss = loss_fn(y_batch, y_pred)\n",
    "    gradients = tape2.gradient(loss, masked_model.proper_weights)\n",
    "\n",
    "print(outer_tape.gradient(loss, masked_model.masks))\n",
    "print(outer_tape.gradient(loss, test_factor))"
   ]
  },
  {
   "attachments": {},
   "cell_type": "markdown",
   "metadata": {},
   "source": [
    "---"
   ]
  },
  {
   "cell_type": "code",
   "execution_count": 21,
   "metadata": {},
   "outputs": [
    {
     "name": "stdout",
     "output_type": "stream",
     "text": [
      "Step: 100 -- Loss: 0.717\r"
     ]
    }
   ],
   "source": [
    "n_max = 100\n",
    "with tf.GradientTape() as outer_tape:\n",
    "    outer_tape.watch(masked_model.masks)\n",
    "\n",
    "    ## First weight & iteration: w0 = c * w_init\n",
    "    X_batch, y_batch = wrp.non_random_batch(X_train, y_train, 0, 256)\n",
    "    with tf.GradientTape() as inner_tape:\n",
    "        y_pred = masked_model(X_batch)\n",
    "        main_loss = tf.reduce_mean(loss_fn(y_batch, y_pred))\n",
    "        loss = tf.add_n([main_loss] + masked_model.losses)\n",
    "    gradients = inner_tape.gradient(loss, masked_model.proper_weights)\n",
    "    optimizer.apply_gradients(zip(gradients, masked_model.proper_weights)) \n",
    "    \n",
    "    ## Unmasking for rest of iterations\n",
    "    masked_model.unmask_forward_passes()\n",
    "\n",
    "    ## Remaining prune-loop steps\n",
    "    for n in range(1, n_max):\n",
    "        X_batch, y_batch = wrp.non_random_batch(X_train, y_train, n, 256)\n",
    "\n",
    "        with tf.GradientTape() as inner_tape:\n",
    "            y_pred = masked_model(X_batch)\n",
    "            main_loss = tf.reduce_mean(loss_fn(y_batch, y_pred))\n",
    "            loss = tf.add_n([main_loss] + masked_model.losses)\n",
    "        gradients = inner_tape.gradient(loss, masked_model.proper_weights)\n",
    "        optimizer.apply_gradients(zip(gradients, masked_model.proper_weights)) \n",
    "\n",
    "        print(f\"Step: {n+1} -- Loss: {loss.numpy():.3f}\", end=\"\\r\")\n",
    "     \n",
    "meta_gradients = outer_tape.gradient(loss, masked_model.masks)\n",
    "# scores_meta_g = wrp.compute_prospr_scores_from_meta_g(meta_gradients)\n",
    "# masks_meta_g = wrp.generate_pruning_mask(scores_meta_g, 0.9)"
   ]
  },
  {
   "cell_type": "code",
   "execution_count": 22,
   "metadata": {},
   "outputs": [
    {
     "data": {
      "text/plain": [
       "ListWrapper([None, None, None, None, None, None, None, None])"
      ]
     },
     "execution_count": 22,
     "metadata": {},
     "output_type": "execute_result"
    }
   ],
   "source": [
    "meta_gradients"
   ]
  },
  {
   "attachments": {},
   "cell_type": "markdown",
   "metadata": {},
   "source": [
    "---"
   ]
  },
  {
   "attachments": {},
   "cell_type": "markdown",
   "metadata": {},
   "source": [
    "### \"Straming\" Meta-Gradients\n",
    "\n",
    "For this approach I directly calculate the gradient $\\gamma_m$ within the \"prune loop\" after each batch update, i. e. after setting \n",
    "$$\n",
    "    \\mathbf{w}_{m+1} = \\mathbf w_m - \\alpha \\frac{\\partial \\mathcal L(\\mathbf{w}_m, \\mathcal D_m)}{\\partial \\mathbf{w}_m} \\, ,\n",
    "$$\n",
    "and therefore keep track only of the product from the previous equation. This means I use autodiff just to calculate \n",
    "$$\n",
    "    \\Gamma_m = \\mathbf{1} - \\alpha \\underbrace{\\frac{\\partial^2 \\mathcal L(\\mathbf{w}_{m-1}, \\mathcal D_{m-1})}{\\partial \\mathbf{w}_{m-1}^2}}_{\\textsf{Hessian}\\ \\ H\\mathcal L} \\, .\n",
    "$$\n",
    "With this approach I do not encounter issues with collapsing or exploding gradients. I combine this with the Jacobian times vector trick from [Wang, et al. (2020)](https://openreview.net/pdf?id=SkgsACVKPH), s. t. I do not need to calculate full \"Hessians\" $\\gamma_m$. To see this, let\n",
    "$$\n",
    "    \\gamma_{< m} = \\Bigg[ \\prod_{l = 1}^{m-1} \\frac{\\partial \\mathbf w_{l}}{\\partial \\mathbf w_{l-1}}\\Bigg] \\mathbf w_{\\textsf{init}} = \\Bigg[ \\prod_{l = 1}^{m-1} \\Gamma_l \\Bigg] \\mathbf w_{\\textsf{init}}\n",
    "$$\n",
    "Regarding the $\\mathbf{w}$'s as $F$-dimensional vectors (the exact shapes get handeled by the autodiff framework) the $\\Gamma$'s are $F\\times F$ matrices and the $\\gamma's$ are therefore yet again $F$-dimensional vectors. Therefore I need to calculate a jacobian times a vector at each step, to keep track of the product as a whole. Computing the full jacobian is expensive but I can use the trick from the GraSp setting yet again, i. e. at each step I update the jacobian-vector-products (`Jvps`) following:\n",
    "$$\n",
    "    \\Gamma_m \\gamma_{<m} = \\nabla_{\\mathbf w_{m-1}} \\big( \\mathbf w_m^T \\gamma_{<m}\\big) \\, .\n",
    "$$\n",
    "Note that $\\Gamma_m$ is symmetric because the identity and $H\\mathcal L$ are symmetric."
   ]
  },
  {
   "cell_type": "code",
   "execution_count": 23,
   "metadata": {},
   "outputs": [
    {
     "name": "stdout",
     "output_type": "stream",
     "text": [
      "Masking <keras.layers.convolutional.Conv2D object at 0x0000025964DB0250>\n",
      "Masking <keras.layers.convolutional.Conv2D object at 0x0000025973FA19D0>\n",
      "Masking <keras.layers.core.Dense object at 0x0000025987099F10>\n",
      "Masking <keras.layers.core.Dense object at 0x0000025987099250>\n"
     ]
    },
    {
     "data": {
      "text/plain": [
       "[True, True, True, True, True, True, True, True]"
      ]
     },
     "execution_count": 23,
     "metadata": {},
     "output_type": "execute_result"
    }
   ],
   "source": [
    "model = get_model()\n",
    "model.set_weights(w_init)\n",
    "full_masks = [mask_factor*tf.ones_like(w) for w in model.trainable_weights]\n",
    "masked_model = msk.TrackableMaskedModel(full_masks, model)\n",
    "[np.allclose(w_new, w_) for w_new, w_ in zip(masked_model.get_proper_weights(), w_init)]"
   ]
  },
  {
   "cell_type": "code",
   "execution_count": 24,
   "metadata": {},
   "outputs": [
    {
     "name": "stdout",
     "output_type": "stream",
     "text": [
      "Step: 199 -- Loss: 0.455\r"
     ]
    }
   ],
   "source": [
    "tf.random.set_seed(42)\n",
    "np.random.seed(42)\n",
    "n_max = 200\n",
    "Jvps = [tf.Variable(var) for var in masked_model.proper_weights]\n",
    "for n in range(n_max-1):\n",
    "\n",
    "    X_batch, y_batch = wrp.non_random_batch(X_train, y_train, n, 256)\n",
    "    w_updates = []\n",
    "    \n",
    "    with tf.GradientTape() as outer_tape: ## Pruning Step\n",
    "        with tf.GradientTape() as inner_tape: # Update Step\n",
    "            y_pred = masked_model(X_batch, training=True)\n",
    "            main_loss = tf.reduce_mean(loss_fn(y_batch, y_pred))\n",
    "            loss = tf.add_n([main_loss] + masked_model.losses)\n",
    "        gradients = inner_tape.gradient(loss, masked_model.proper_weights)\n",
    "        for w, g in zip(masked_model.proper_weights, gradients):\n",
    "            w_updates.append(w - 0.05 * g)\n",
    "\n",
    "        int_Jvps = tf.reduce_sum([tf.reduce_sum(w_ * tf.stop_gradient(v_)) \n",
    "            for w_, v_ in zip(w_updates, Jvps)])\n",
    "\n",
    "    Jvps = outer_tape.gradient(int_Jvps, masked_model.proper_weights)\n",
    "    for w, w_update in zip(masked_model.proper_weights, w_updates):\n",
    "        w.assign(w_update) \n",
    "\n",
    "    print(f\"Step: {n+1} -- Loss: {loss.numpy():.3f}\", end=\"\\r\")\n",
    "\n",
    "scores_jvp = wrp.compute_prospr_scores(Jvps, masked_model, \n",
    "    *wrp.non_random_batch(X_train, y_train, n, 256),\n",
    "    loss_fn)\n",
    "masks_jvp = wrp.generate_pruning_mask(scores_jvp, 0.9)"
   ]
  },
  {
   "cell_type": "code",
   "execution_count": 25,
   "metadata": {},
   "outputs": [
    {
     "name": "stdout",
     "output_type": "stream",
     "text": [
      "Step: 199 -- Loss: 0.455\r"
     ]
    }
   ],
   "source": [
    "model = get_model()\n",
    "model.set_weights(w_init)\n",
    "# tf.random.set_seed(42)\n",
    "# np.random.seed(42)\n",
    "n_max = 200\n",
    "Jvps = [tf.constant(w.numpy()) for w in model.trainable_weights]\n",
    "for n in range(n_max-1):\n",
    "\n",
    "    X_batch, y_batch = wrp.non_random_batch(X_train, y_train, n, 256)\n",
    "    w_updates = []\n",
    "    \n",
    "    with tf.GradientTape() as outer_tape: ## Pruning Step\n",
    "        with tf.GradientTape() as inner_tape: # Update Step\n",
    "            y_pred = model(X_batch, training=True)\n",
    "            loss = loss_fn(y_batch, y_pred)\n",
    "        gradients = inner_tape.gradient(loss, model.trainable_weights)\n",
    "        for w, g in zip(model.trainable_weights, gradients):\n",
    "            w_updates.append(w - 0.05 * g)\n",
    "\n",
    "        int_Jvps = tf.reduce_sum([tf.reduce_sum(w_ * tf.stop_gradient(v_)) \n",
    "            for w_, v_ in zip(w_updates, Jvps)])\n",
    "\n",
    "    Jvps = outer_tape.gradient(int_Jvps, model.trainable_weights)\n",
    "    for w, w_update in zip(model.trainable_weights, w_updates):\n",
    "        w.assign(w_update) \n",
    "\n",
    "    print(f\"Step: {n+1} -- Loss: {loss.numpy():.3f}\", end=\"\\r\")\n",
    "\n",
    "scores_jvp0 = wrp.compute_prospr_scores_unmasked_model(Jvps, model, \n",
    "    *wrp.non_random_batch(X_train, y_train, n, 256),\n",
    "    loss_fn)\n",
    "masks_jvp0 = wrp.generate_pruning_mask(scores_jvp, 0.99)"
   ]
  },
  {
   "attachments": {},
   "cell_type": "markdown",
   "metadata": {},
   "source": [
    "## Train ProsPr-pruned Model"
   ]
  },
  {
   "cell_type": "code",
   "execution_count": 26,
   "metadata": {},
   "outputs": [
    {
     "name": "stdout",
     "output_type": "stream",
     "text": [
      "Accuracy at init: 0.12\n"
     ]
    }
   ],
   "source": [
    "masks = masks_jvp\n",
    "model = get_model()\n",
    "model.set_weights(w_init)\n",
    "prospr_model = msk.StaticMaskedModel(masks, model)\n",
    "\n",
    "print(f\"Accuracy at init: {wrp.simple_accuracy(prospr_model, X_test, y_test):.2f}\")\n",
    "\n",
    "prospr_model.compile(\n",
    "    optimizer=keras.optimizers.Adam(),\n",
    "    loss=loss_fn,\n",
    "    metrics=[\"accuracy\"]\n",
    ")"
   ]
  },
  {
   "cell_type": "code",
   "execution_count": 27,
   "metadata": {},
   "outputs": [
    {
     "name": "stdout",
     "output_type": "stream",
     "text": [
      "469/469 [==============================] - 3s 4ms/step - loss: 1.5494 - accuracy: 0.4882 - val_loss: 0.9856 - val_accuracy: 0.6183\n"
     ]
    }
   ],
   "source": [
    "pruned_fit = prospr_model.fit(\n",
    "    X_train, y_train,\n",
    "    validation_data=(X_test, y_test),\n",
    "    epochs=1,\n",
    "    batch_size=128\n",
    ")"
   ]
  },
  {
   "attachments": {},
   "cell_type": "markdown",
   "metadata": {},
   "source": [
    "Some sanity Checks:"
   ]
  },
  {
   "cell_type": "code",
   "execution_count": 28,
   "metadata": {},
   "outputs": [],
   "source": [
    "with tf.GradientTape() as tape:\n",
    "    y_pred = prospr_model(X_test)\n",
    "    loss = loss_fn(y_test, y_pred)\n",
    "gradients = tape.gradient(loss, model.trainable_weights)"
   ]
  },
  {
   "cell_type": "code",
   "execution_count": 29,
   "metadata": {},
   "outputs": [
    {
     "data": {
      "text/plain": [
       "[True, True, True, True, True, True, True, True]"
      ]
     },
     "execution_count": 29,
     "metadata": {},
     "output_type": "execute_result"
    }
   ],
   "source": [
    "## Confirm that the mask has not been trained\n",
    "[np.all(mm == m) for mm, m in zip(prospr_model.masks, masks)]"
   ]
  },
  {
   "cell_type": "code",
   "execution_count": 30,
   "metadata": {},
   "outputs": [
    {
     "name": "stdout",
     "output_type": "stream",
     "text": [
      "0.9999403080106649\n",
      "0.7828007481395997\n"
     ]
    }
   ],
   "source": [
    "## Sanity Checks\n",
    "weights_flat = np.concatenate([w.flatten() for w in prospr_model.get_proper_weights()])\n",
    "masks_flat   = np.concatenate([mask.flatten() for mask in masks])\n",
    "grads_flat = np.concatenate([grad.numpy().flatten() for grad in gradients])\n",
    "\n",
    "weights_zero = np.isclose(weights_flat, 0)\n",
    "masks_zero = np.isclose(masks_flat, 0)\n",
    "grads_zero = np.isclose(grads_flat, 0)\n",
    "\n",
    "print(np.mean(weights_zero == masks_zero))\n",
    "print(np.mean(grads_zero == masks_zero))"
   ]
  },
  {
   "attachments": {},
   "cell_type": "markdown",
   "metadata": {},
   "source": [
    "## Sparsity vs. Accuracy"
   ]
  },
  {
   "cell_type": "code",
   "execution_count": 31,
   "metadata": {},
   "outputs": [],
   "source": [
    "sparsity_range = np.linspace(0.9, 1., 20)"
   ]
  },
  {
   "cell_type": "code",
   "execution_count": 32,
   "metadata": {},
   "outputs": [
    {
     "name": "stderr",
     "output_type": "stream",
     "text": [
      "100%|██████████| 20/20 [00:47<00:00,  2.37s/it]\n"
     ]
    }
   ],
   "source": [
    "## ProsPr Pruning\n",
    "prospr_scores = scores_jvp\n",
    "accuracy_prospr = []\n",
    "loss_prospr = []\n",
    "\n",
    "for sparsity in tqdm(sparsity_range):\n",
    "    masks = wrp.generate_pruning_mask(\n",
    "        prospr_scores, \n",
    "        sparsity=np.clip(sparsity, a_min=0., a_max=1.))\n",
    "    model = get_model()\n",
    "    model.set_weights(w_init)\n",
    "    prospr_model = msk.StaticMaskedModel(masks, model)\n",
    "\n",
    "    prospr_model.compile(\n",
    "        optimizer=keras.optimizers.Adam(),\n",
    "        loss=\"categorical_crossentropy\",\n",
    "        metrics=[\"accuracy\"]\n",
    "    )\n",
    "\n",
    "    pruned_fit = prospr_model.fit(\n",
    "        X_train, y_train,\n",
    "        validation_data=(X_test, y_test),\n",
    "        verbose=0,\n",
    "        epochs=1,\n",
    "        batch_size=128\n",
    "    )\n",
    "\n",
    "    accuracy_prospr.append(pruned_fit.history['val_accuracy'])\n",
    "    loss_prospr.append(pruned_fit.history['val_loss'])"
   ]
  },
  {
   "cell_type": "code",
   "execution_count": 33,
   "metadata": {},
   "outputs": [
    {
     "name": "stderr",
     "output_type": "stream",
     "text": [
      "100%|██████████| 20/20 [00:47<00:00,  2.38s/it]\n"
     ]
    }
   ],
   "source": [
    "## GraSP Pruning\n",
    "accuracy_grasp = []\n",
    "loss_grasp = []\n",
    "\n",
    "for sparsity in tqdm(sparsity_range):\n",
    "    masks = wrp.generate_pruning_mask(\n",
    "        grasp_scores, \n",
    "        sparsity=np.clip(sparsity, a_min=0., a_max=1.))\n",
    "    model = get_model()\n",
    "    model.set_weights(w_init)\n",
    "    grasp_model = msk.StaticMaskedModel(masks, model)\n",
    "\n",
    "    grasp_model.compile(\n",
    "        optimizer=keras.optimizers.Adam(),\n",
    "        loss=\"categorical_crossentropy\",\n",
    "        metrics=[\"accuracy\"]\n",
    "    )\n",
    "\n",
    "    pruned_fit = grasp_model.fit(\n",
    "        X_train, y_train,\n",
    "        validation_data=(X_test, y_test),\n",
    "        verbose=0,\n",
    "        epochs=1,\n",
    "        batch_size=128\n",
    "    )\n",
    "\n",
    "    accuracy_grasp.append(pruned_fit.history['val_accuracy'])\n",
    "    loss_grasp.append(pruned_fit.history['val_loss'])"
   ]
  },
  {
   "cell_type": "code",
   "execution_count": 34,
   "metadata": {},
   "outputs": [
    {
     "name": "stderr",
     "output_type": "stream",
     "text": [
      "100%|██████████| 20/20 [00:48<00:00,  2.43s/it]\n"
     ]
    }
   ],
   "source": [
    "## Random Pruning\n",
    "weight_shapes = [var.shape for var in model.trainable_weights]\n",
    "accuracy_random = []\n",
    "loss_random = []\n",
    "\n",
    "for sparsity in tqdm(sparsity_range):\n",
    "    masks = wrp.generate_random_pruning_mask(\n",
    "        weight_shapes, \n",
    "        sparsity=sparsity)\n",
    "    model = get_model()\n",
    "    model.set_weights(w_init)\n",
    "    random_model = msk.StaticMaskedModel(masks, model)\n",
    "\n",
    "    random_model.compile(\n",
    "        optimizer=keras.optimizers.Adam(),\n",
    "        loss=\"categorical_crossentropy\",\n",
    "        metrics=[\"accuracy\"]\n",
    "    )\n",
    "\n",
    "    pruned_fit = random_model.fit(\n",
    "        X_train, y_train,\n",
    "        validation_data=(X_test, y_test),\n",
    "        verbose=0,\n",
    "        epochs=1,\n",
    "        batch_size=128\n",
    "    )\n",
    "\n",
    "    accuracy_random.append(pruned_fit.history['val_accuracy'])\n",
    "    loss_random.append(pruned_fit.history['val_loss'])"
   ]
  },
  {
   "cell_type": "code",
   "execution_count": 35,
   "metadata": {},
   "outputs": [],
   "source": [
    "labels_acc  = [\"rand. pruning acc.\", \"ProsPr acc.\", \"GraSp acc.\"]\n",
    "labels_loss = [\"rand. pruning loss\", \"ProsPr loss\", \"GraSp loss\"]\n",
    "data_acc  = [accuracy_random, accuracy_prospr, accuracy_grasp]\n",
    "data_loss = [    loss_random,     loss_prospr,     loss_grasp]\n",
    "lines_acc  = [\"k-\",  \"r-\",  \"g-\"]\n",
    "lines_loss = [\"k--\", \"r--\", \"g--\"]"
   ]
  },
  {
   "cell_type": "code",
   "execution_count": 36,
   "metadata": {},
   "outputs": [
    {
     "data": {
      "image/png": "[encoded data removed]",
      "text/plain": [
       "<Figure size 1152x720 with 2 Axes>"
      ]
     },
     "metadata": {
      "needs_background": "light"
     },
     "output_type": "display_data"
    }
   ],
   "source": [
    "fig, ax0 = plt.subplots(figsize=(16, 10))\n",
    "ax1 = ax0.twinx()\n",
    "ax0.set_title(\"Accuracy and Loss vs. Sparsity\", fontsize=22)\n",
    "\n",
    "plt_acc  = [ax0.plot(sparsity_range, data, line, label=label) \n",
    "    for data, line, label in zip(data_acc, lines_acc, labels_acc)]\n",
    "plt_loss = [ax1.plot(sparsity_range, data, line, label=label) \n",
    "    for data, line, label in zip(data_loss, lines_loss, labels_loss)]\n",
    "\n",
    "ax1.set_ylabel(\"Loss\", fontsize=18)\n",
    "ax0.set_xlabel(\"Sparsity\", fontsize=18)\n",
    "ax0.set_ylabel(\"Accuracy\", fontsize=18)\n",
    "ax0.grid()\n",
    "lns = [l[0] for l in plt_acc + plt_loss]\n",
    "labs = [l.get_label() for l in lns]\n",
    "ax1.legend(lns, labs, loc='center left', fontsize=18)\n",
    "plt.show()\n",
    "plt.close()"
   ]
  }
 ],
 "metadata": {
  "kernelspec": {
   "display_name": "tensorflow-gpu",
   "language": "python",
   "name": "python3"
  },
  "language_info": {
   "codemirror_mode": {
    "name": "ipython",
    "version": 3
   },
   "file_extension": ".py",
   "mimetype": "text/x-python",
   "name": "python",
   "nbconvert_exporter": "python",
   "pygments_lexer": "ipython3",
   "version": "3.9.12"
  },
  "orig_nbformat": 4,
  "vscode": {
   "interpreter": {
    "hash": "9da7387ac238462230b0dbd9bf3fc9372aae1b82f76d8141914412c04a1575e6"
   }
  }
 },
 "nbformat": 4,
 "nbformat_minor": 2
}
