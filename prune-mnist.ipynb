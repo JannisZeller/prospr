{
 "cells": [
  {
   "attachments": {},
   "cell_type": "markdown",
   "metadata": {},
   "source": [
    "# Pruning a Dense-Network with MNIST\n",
    "\n",
    "---\n",
    "\n",
    "Please take a look at the `README` for sources and references."
   ]
  },
  {
   "attachments": {},
   "cell_type": "markdown",
   "metadata": {},
   "source": [
    "## Imports and Data-Preparation"
   ]
  },
  {
   "cell_type": "code",
   "execution_count": 290,
   "metadata": {},
   "outputs": [],
   "source": [
    "## Settings\n",
    "model_type = \"LeNet5\"  ## Choice of \"LeNet5\" and \"Dense\""
   ]
  },
  {
   "cell_type": "code",
   "execution_count": 291,
   "metadata": {},
   "outputs": [],
   "source": [
    "## Tensorflow related\n",
    "import tensorflow as tf\n",
    "import tensorflow.keras as keras\n",
    "import tensorflow.keras.layers as layers\n",
    "from tensorflow.keras.layers import Conv2D, Dense\n",
    "\n",
    "## General\n",
    "import numpy as np\n",
    "import matplotlib.pyplot as plt\n",
    "from tqdm import tqdm\n",
    "\n",
    "## Importing Pruned Model\n",
    "import sys; \n",
    "if \"..\\\\\" not in sys.path: sys.path.append(\"..\\\\\")\n",
    "import src.masked_keras as msk\n",
    "import src.wrappers as wrp"
   ]
  },
  {
   "cell_type": "code",
   "execution_count": 292,
   "metadata": {},
   "outputs": [],
   "source": [
    "from importlib import reload\n",
    "wrp = reload(wrp)\n",
    "msk = reload(msk)"
   ]
  },
  {
   "cell_type": "code",
   "execution_count": 293,
   "metadata": {},
   "outputs": [],
   "source": [
    "## Fetch Mnist-Dataset\n",
    "(X_train, y_train), (X_test, y_test) = wrp.load_mnist() # 10000\n",
    "num_classes = 10"
   ]
  },
  {
   "cell_type": "code",
   "execution_count": 294,
   "metadata": {},
   "outputs": [],
   "source": [
    "if model_type == \"LeNet5\":\n",
    "    X_train = np.pad(X_train, ((0,0),(2,2),(2,2),(0,0)), 'constant')\n",
    "    X_test  = np.pad(X_test,  ((0,0),(2,2),(2,2),(0,0)), 'constant')"
   ]
  },
  {
   "attachments": {},
   "cell_type": "markdown",
   "metadata": {},
   "source": [
    "---"
   ]
  },
  {
   "attachments": {},
   "cell_type": "markdown",
   "metadata": {},
   "source": [
    "## Defining the Model, Loss, and Optimizer"
   ]
  },
  {
   "cell_type": "code",
   "execution_count": 295,
   "metadata": {},
   "outputs": [],
   "source": [
    "## Defining the Model with Sequential API\n",
    "if model_type == \"Dense\":\n",
    "    def get_model():\n",
    "        return keras.Sequential([\n",
    "            layers.Flatten(input_shape=X_train.shape[1:]),\n",
    "            layers.Dense(128, activation=\"relu\"),\n",
    "            layers.Dense(128, activation=\"relu\"),\n",
    "            layers.Dense(128, activation=\"relu\"),\n",
    "            layers.Dense(num_classes, activation=\"softmax\")\n",
    "        ])\n",
    "\n",
    "if model_type == \"LeNet5\":\n",
    "    def get_model():\n",
    "        return keras.Sequential([\n",
    "            layers.Conv2D(filters=6, kernel_size=(3, 3), activation='relu', \n",
    "                input_shape=X_train.shape[1:]),\n",
    "            layers.AveragePooling2D(),\n",
    "            layers.Conv2D(filters=16, kernel_size=(3, 3), activation='relu'),\n",
    "            layers.AveragePooling2D(),\n",
    "            layers.Flatten(),\n",
    "            layers.Dense(units=120, activation='relu'),\n",
    "            layers.Dense(units=84, activation='relu'),\n",
    "            layers.Dense(units=10, activation = 'softmax')\n",
    "        ])\n",
    "\n",
    "## Extract init-model weights for training after pruning\n",
    "model = get_model()\n",
    "w_init = model.get_weights()"
   ]
  },
  {
   "cell_type": "code",
   "execution_count": 296,
   "metadata": {},
   "outputs": [],
   "source": [
    "loss_fn = keras.losses.CategoricalCrossentropy()\n",
    "metrics = [\n",
    "    keras.metrics.TopKCategoricalAccuracy(\n",
    "        k=1, name=\"categorical_accuracy\", dtype=None), \n",
    "    keras.metrics.CategoricalCrossentropy()]"
   ]
  },
  {
   "cell_type": "code",
   "execution_count": 297,
   "metadata": {},
   "outputs": [
    {
     "name": "stdout",
     "output_type": "stream",
     "text": [
      "Accuracy at init: 0.10100000351667404\n"
     ]
    }
   ],
   "source": [
    "print(f\"Accuracy at init: {wrp.simple_accuracy(model, X_test[:1000], y_test[:1000])}\")"
   ]
  },
  {
   "cell_type": "markdown",
   "metadata": {},
   "source": [
    "---"
   ]
  },
  {
   "attachments": {},
   "cell_type": "markdown",
   "metadata": {},
   "source": [
    "## ProsPr Pruning\n",
    "\n",
    "Pruning logic from [Alizadeh, et al. (2022)](https://arxiv.org/pdf/2202.08132.pdf), but taking care of the pruning step-wise. Custom training loop modified from [Géron (2019)](https://www.oreilly.com/library/view/hands-on-machine-learning/9781492032632/). \n",
    "Combining it with the Jacobian times vector trick from [Wang, et al. (2020)](https://openreview.net/pdf?id=SkgsACVKPH). Therefore `Jvs` abbreviates \"Jacobian-Vector-Products\"."
   ]
  },
  {
   "cell_type": "code",
   "execution_count": 298,
   "metadata": {},
   "outputs": [
    {
     "name": "stdout",
     "output_type": "stream",
     "text": [
      "Masking <keras.layers.convolutional.Conv2D object at 0x00000224B39B7BB0>\n",
      "Masking <keras.layers.convolutional.Conv2D object at 0x00000224B72E9B20>\n",
      "Masking <keras.layers.core.Dense object at 0x00000224B72E9CA0>\n",
      "Masking <keras.layers.core.Dense object at 0x00000226B9279370>\n",
      "Masking <keras.layers.core.Dense object at 0x00000224B39A50A0>\n"
     ]
    },
    {
     "data": {
      "text/plain": [
       "[True, True, True, True, True, True, True, True, True, True]"
      ]
     },
     "execution_count": 298,
     "metadata": {},
     "output_type": "execute_result"
    }
   ],
   "source": [
    "full_mask = [tf.ones_like(w) for w in model.trainable_weights]\n",
    "masked_model = msk.TrackableMaskedModel(full_mask, model)\n",
    "optimizer=keras.optimizers.SGD(learning_rate=0.1)\n",
    "[np.allclose(w_, w_old) for w_, w_old in zip(masked_model.get_proper_weights(), w_init)]"
   ]
  },
  {
   "cell_type": "code",
   "execution_count": 299,
   "metadata": {},
   "outputs": [
    {
     "name": "stdout",
     "output_type": "stream",
     "text": [
      "1.8478893\r"
     ]
    }
   ],
   "source": [
    "n_max = 100\n",
    "with tf.GradientTape() as outer_tape:\n",
    "    outer_tape.watch(masked_model.masks)\n",
    "    for n in range(n_max):\n",
    "        X_batch, y_batch = wrp.non_random_batch(X_train, y_train, n, 256)\n",
    "\n",
    "        with tf.GradientTape(persistent=True) as inner_tape:\n",
    "            y_pred = masked_model(X_batch)\n",
    "            main_loss = tf.reduce_mean(loss_fn(y_batch, y_pred))\n",
    "            loss = tf.add_n([main_loss] + masked_model.losses)\n",
    "        gradients = inner_tape.gradient(loss, masked_model.proper_weights)\n",
    "\n",
    "        # for w, g in zip(masked_model.proper_weights, gradients):\n",
    "        #     w.assign(w - 0.1 * g)\n",
    "        optimizer.apply_gradients(zip(gradients, masked_model.proper_weights)) \n",
    "\n",
    "        print(loss.numpy(), end=\"\\r\")\n",
    "     \n",
    "meta_gradients = outer_tape.gradient(loss, masked_model.masks)\n",
    "scores1 = wrp.compute_prospr_scores_from_meta_g(meta_gradients)\n",
    "\n",
    "preds1 = np.argmax(masked_model.predict(X_test), axis=1)"
   ]
  },
  {
   "cell_type": "code",
   "execution_count": 300,
   "metadata": {},
   "outputs": [
    {
     "name": "stdout",
     "output_type": "stream",
     "text": [
      "Masking <keras.layers.convolutional.Conv2D object at 0x00000224B13BA5E0>\n",
      "Masking <keras.layers.convolutional.Conv2D object at 0x00000224B3B38E20>\n",
      "Masking <keras.layers.core.Dense object at 0x0000022495FFA070>\n",
      "Masking <keras.layers.core.Dense object at 0x0000022495FFA430>\n",
      "Masking <keras.layers.core.Dense object at 0x0000022495FFA370>\n"
     ]
    },
    {
     "data": {
      "text/plain": [
       "[True, True, True, True, True, True, True, True, True, True]"
      ]
     },
     "execution_count": 300,
     "metadata": {},
     "output_type": "execute_result"
    }
   ],
   "source": [
    "masked_model.reset(get_model())\n",
    "[np.allclose(w_new, w_) for w_new, w_ in zip(masked_model.get_proper_weights(), w_init)]"
   ]
  },
  {
   "cell_type": "code",
   "execution_count": 301,
   "metadata": {},
   "outputs": [
    {
     "name": "stdout",
     "output_type": "stream",
     "text": [
      "1.9142811\r"
     ]
    }
   ],
   "source": [
    "n_max = 100\n",
    "\n",
    "Jvs = [tf.Variable(var) for var in masked_model.proper_weights]\n",
    "\n",
    "for n in range(n_max-1):\n",
    "\n",
    "    X_batch, y_batch = wrp.non_random_batch(X_train, y_train, n, 256)\n",
    "    w_updates = []\n",
    "    \n",
    "    with tf.GradientTape() as outer_tape: ## Pruning Step\n",
    "        with tf.GradientTape() as inner_tape: # Update Step\n",
    "            y_pred = masked_model(X_batch, training=True)\n",
    "            main_loss = tf.reduce_mean(loss_fn(y_batch, y_pred))\n",
    "            loss = tf.add_n([main_loss] + masked_model.losses)\n",
    "        gradients = inner_tape.gradient(loss, masked_model.proper_weights)\n",
    "        for w, g in zip(masked_model.proper_weights, gradients):\n",
    "            w_updates.append(w - 0.1 * g)\n",
    "\n",
    "        int_Jv = tf.reduce_sum([tf.reduce_sum(w_ * tf.stop_gradient(v_)) \n",
    "            for w_, v_ in zip(w_updates, Jvs)])\n",
    "    Jvs = outer_tape.gradient(int_Jv, masked_model.proper_weights)\n",
    "    for w, w_update in zip(masked_model.proper_weights, w_updates):\n",
    "        w.assign(w_update) ## Update\n",
    "\n",
    "    print(loss.numpy(), end=\"\\r\")\n",
    "\n",
    "\n",
    "scores2 = wrp.compute_prospr_scores(Jvs, masked_model, \n",
    "    *wrp.non_random_batch(X_train, y_train, n, 256),\n",
    "    loss_fn)\n",
    "\n",
    "preds2 = np.argmax(masked_model.predict(X_test), axis=1)"
   ]
  },
  {
   "cell_type": "code",
   "execution_count": 302,
   "metadata": {},
   "outputs": [],
   "source": [
    "masks1 = wrp.generate_pruning_mask(scores1, 0.5)\n",
    "masks2 = wrp.generate_pruning_mask(scores2, 0.5)"
   ]
  },
  {
   "cell_type": "code",
   "execution_count": 303,
   "metadata": {},
   "outputs": [
    {
     "data": {
      "text/plain": [
       "0.7558"
      ]
     },
     "execution_count": 303,
     "metadata": {},
     "output_type": "execute_result"
    }
   ],
   "source": [
    "np.mean(preds1 == preds2)"
   ]
  },
  {
   "cell_type": "code",
   "execution_count": 304,
   "metadata": {},
   "outputs": [],
   "source": [
    "# Jvs, prune_fit_history = wrp.prospr_loop(\n",
    "#     model=model,\n",
    "#     X_train=X_train, y_train=y_train,\n",
    "#     loss_fn=loss_fn,\n",
    "#     metrics=metrics,\n",
    "#     prune_sg_lr=0.05,\n",
    "#     validation_data=(X_test, y_test),\n",
    "#     # optimizer=keras.optimizers.SGD(learning_rate=0.01),\n",
    "# )"
   ]
  },
  {
   "cell_type": "code",
   "execution_count": 305,
   "metadata": {},
   "outputs": [],
   "source": [
    "# X_M, y_M = wrp.random_batch(X_train, y_train, batch_size=128)\n",
    "# prospr_scores = wrp.compute_prospr_scores(\n",
    "#     Jvs=Jvs,\n",
    "#     model=model,\n",
    "#     X_train=X_M, y_train=y_M,\n",
    "#     loss_fn=loss_fn)"
   ]
  },
  {
   "cell_type": "code",
   "execution_count": 306,
   "metadata": {},
   "outputs": [],
   "source": [
    "# _ = wrp.visualize_prune_history(prune_fit_history)"
   ]
  },
  {
   "attachments": {},
   "cell_type": "markdown",
   "metadata": {},
   "source": [
    "---"
   ]
  },
  {
   "attachments": {},
   "cell_type": "markdown",
   "metadata": {},
   "source": [
    "## Train ProsPr-pruned Model"
   ]
  },
  {
   "cell_type": "code",
   "execution_count": 307,
   "metadata": {},
   "outputs": [],
   "source": [
    "masks = masks1"
   ]
  },
  {
   "cell_type": "code",
   "execution_count": 308,
   "metadata": {},
   "outputs": [],
   "source": [
    "keras.backend.clear_session()\n",
    "model = get_model()\n",
    "model.set_weights(w_init)"
   ]
  },
  {
   "cell_type": "code",
   "execution_count": 309,
   "metadata": {},
   "outputs": [
    {
     "name": "stdout",
     "output_type": "stream",
     "text": [
      "Accuracy at init: 0.1388999968767166\n"
     ]
    }
   ],
   "source": [
    "prospr_model = msk.StaticMaskedModel(masks, model)\n",
    "print(f\"Accuracy at init: {wrp.simple_accuracy(prospr_model, X_test, y_test)}\")"
   ]
  },
  {
   "cell_type": "code",
   "execution_count": 310,
   "metadata": {},
   "outputs": [
    {
     "data": {
      "text/plain": [
       "10"
      ]
     },
     "execution_count": 310,
     "metadata": {},
     "output_type": "execute_result"
    }
   ],
   "source": [
    "len(prospr_model.trainable_weights)"
   ]
  },
  {
   "cell_type": "code",
   "execution_count": 311,
   "metadata": {},
   "outputs": [],
   "source": [
    "prospr_model.compile(\n",
    "    optimizer=keras.optimizers.Adam(),\n",
    "    loss=loss_fn,\n",
    "    metrics=[\"accuracy\"]\n",
    ")"
   ]
  },
  {
   "cell_type": "code",
   "execution_count": 312,
   "metadata": {},
   "outputs": [
    {
     "name": "stdout",
     "output_type": "stream",
     "text": [
      "469/469 [==============================] - 3s 5ms/step - loss: 0.5333 - accuracy: 0.8513 - val_loss: 0.1849 - val_accuracy: 0.9462\n"
     ]
    }
   ],
   "source": [
    "pruned_fit = prospr_model.fit(\n",
    "    X_train, y_train,\n",
    "    validation_data=(X_test, y_test),\n",
    "    epochs=1,\n",
    "    batch_size=128\n",
    ")"
   ]
  },
  {
   "cell_type": "code",
   "execution_count": 313,
   "metadata": {},
   "outputs": [],
   "source": [
    "with tf.GradientTape() as tape:\n",
    "    y_pred = prospr_model(X_test)\n",
    "    loss = loss_fn(y_test, y_pred)\n",
    "gradients = tape.gradient(loss, model.trainable_weights)"
   ]
  },
  {
   "cell_type": "code",
   "execution_count": 314,
   "metadata": {},
   "outputs": [
    {
     "data": {
      "text/plain": [
       "[True, True, True, True, True, True, True, True, True, True]"
      ]
     },
     "execution_count": 314,
     "metadata": {},
     "output_type": "execute_result"
    }
   ],
   "source": [
    "## Confirm that the mask has not been trained\n",
    "[np.all(mm == m) for mm, m in zip(prospr_model.masks, masks)]"
   ]
  },
  {
   "cell_type": "code",
   "execution_count": 315,
   "metadata": {},
   "outputs": [
    {
     "name": "stdout",
     "output_type": "stream",
     "text": [
      "0.9999630514570043\n",
      "0.7489592827056186\n"
     ]
    }
   ],
   "source": [
    "## Sanity Checks\n",
    "weights_flat = np.concatenate([w.flatten() for w in prospr_model.get_proper_weights()])\n",
    "masks_flat   = np.concatenate([mask.numpy().flatten() for mask in masks])\n",
    "grads_flat = np.concatenate([grad.numpy().flatten() for grad in gradients])\n",
    "\n",
    "weights_zero = np.isclose(weights_flat, 0)\n",
    "masks_zero = np.isclose(masks_flat, 0)\n",
    "grads_zero = np.isclose(grads_flat, 0)\n",
    "\n",
    "print(np.mean(weights_zero == masks_zero))\n",
    "print(np.mean(grads_zero == masks_zero))"
   ]
  },
  {
   "attachments": {},
   "cell_type": "markdown",
   "metadata": {},
   "source": [
    "---"
   ]
  },
  {
   "attachments": {},
   "cell_type": "markdown",
   "metadata": {},
   "source": [
    "## GraSp Pruning\n",
    "\n",
    "Pruning logic from [Wang, et al. (2020)](https://openreview.net/pdf?id=SkgsACVKPH)."
   ]
  },
  {
   "cell_type": "code",
   "execution_count": 316,
   "metadata": {},
   "outputs": [
    {
     "name": "stdout",
     "output_type": "stream",
     "text": [
      "tf.Tensor([15. 18. 31.], shape=(3,), dtype=float32)\n",
      "tf.Tensor(\n",
      "[[ 6.  6.  4.]\n",
      " [ 6. 12.  2.]\n",
      " [ 4.  2. 18.]], shape=(3, 3), dtype=float32)\n",
      "tf.Tensor([16. 20. 24.], shape=(3,), dtype=float32)\n",
      "tf.Tensor(\n",
      "[[[322.]\n",
      "  [368.]\n",
      "  [654.]]], shape=(1, 3, 1), dtype=float32)\n",
      "tf.Tensor([322. 368. 654.], shape=(3,), dtype=float32)\n"
     ]
    }
   ],
   "source": [
    "## Testing Tape Behaviour\n",
    "v = tf.Variable([1., 2., 3.])\n",
    "with tf.GradientTape(persistent=True) as outer_tape:\n",
    "    with tf.GradientTape() as tape:\n",
    "       y = tf.reduce_sum(v ** 3.) + 2*tf.reduce_prod(v)\n",
    "    dy  = tape.gradient(y, v)\n",
    "    int_H = tf.reduce_sum(dy * tf.stop_gradient(dy))\n",
    "d2y = outer_tape.jacobian(dy, v)\n",
    "d2y_sum = outer_tape.gradient(dy, v)\n",
    "Hg = outer_tape.gradient(int_H, v)\n",
    "\n",
    "print(dy)\n",
    "print(d2y)\n",
    "print(d2y_sum)\n",
    "print(tf.matmul([d2y], tf.transpose([dy])))\n",
    "print(Hg)"
   ]
  },
  {
   "cell_type": "code",
   "execution_count": 317,
   "metadata": {},
   "outputs": [
    {
     "name": "stdout",
     "output_type": "stream",
     "text": [
      "tf.Tensor([15. 18. 31.], shape=(3,), dtype=float32)\n"
     ]
    },
    {
     "data": {
      "text/plain": [
       "<tf.Tensor: shape=(3,), dtype=float32, numpy=array([322., 368., 654.], dtype=float32)>"
      ]
     },
     "execution_count": 317,
     "metadata": {},
     "output_type": "execute_result"
    }
   ],
   "source": [
    "with tf.autodiff.ForwardAccumulator(\n",
    "    v,\n",
    "    dy) as acc:\n",
    "    with tf.GradientTape() as tape:\n",
    "        y = tf.reduce_sum(v ** 3.) + 2*tf.reduce_prod(v)\n",
    "    backward = tape.gradient(y, v)\n",
    "print(backward)  # gradient from backprop\n",
    "acc.jvp(backward)  # forward-over-backward Hessian-vector product\n"
   ]
  },
  {
   "cell_type": "code",
   "execution_count": 319,
   "metadata": {},
   "outputs": [],
   "source": [
    "## Reset Model\n",
    "model = get_model()\n",
    "model.set_weights(w_init)\n",
    "\n",
    "## GraSp batch:\n",
    "X_grasp, y_grasp = wrp.random_batch(X_train, y_train, batch_size=512)"
   ]
  },
  {
   "cell_type": "code",
   "execution_count": 320,
   "metadata": {},
   "outputs": [],
   "source": [
    "## Method on Page 5\n",
    "with tf.GradientTape(persistent=True) as outer_tape:\n",
    "    with tf.GradientTape() as inner_tape:\n",
    "        y_pred = model(X_grasp)\n",
    "        loss = loss_fn(y_grasp, y_pred)\n",
    "    gradients = inner_tape.gradient(loss, model.trainable_variables)\n",
    "    int_Hg = tf.reduce_sum([tf.reduce_sum(g * tf.stop_gradient(g)) for g in gradients])\n",
    "Hgs = outer_tape.gradient(int_Hg, model.trainable_variables)\n",
    "grasp_scores = Hgs"
   ]
  },
  {
   "cell_type": "code",
   "execution_count": 321,
   "metadata": {},
   "outputs": [],
   "source": [
    "## Plain Hessian-gradient-product\n",
    "with tf.autodiff.ForwardAccumulator(\n",
    "    model.trainable_variables,\n",
    "    gradients) as acc:\n",
    "    with tf.GradientTape() as tape:\n",
    "        y_pred = model(X_grasp)\n",
    "        loss = loss_fn(y_grasp, y_pred)\n",
    "    backward = tape.gradient(loss, model.trainable_variables)\n",
    "Hgs2 = acc.jvp(backward)"
   ]
  },
  {
   "cell_type": "code",
   "execution_count": 322,
   "metadata": {},
   "outputs": [
    {
     "data": {
      "text/plain": [
       "[True, True, True, True, True, True, True, True, True, True]"
      ]
     },
     "execution_count": 322,
     "metadata": {},
     "output_type": "execute_result"
    }
   ],
   "source": [
    "[np.allclose(Hg2, Hg1) for Hg2, Hg1 in zip(Hgs2, Hgs)]"
   ]
  },
  {
   "attachments": {},
   "cell_type": "markdown",
   "metadata": {},
   "source": [
    "---"
   ]
  },
  {
   "attachments": {},
   "cell_type": "markdown",
   "metadata": {},
   "source": [
    "## Train GraSp-pruned Model"
   ]
  },
  {
   "cell_type": "code",
   "execution_count": 323,
   "metadata": {},
   "outputs": [],
   "source": [
    "masks = wrp.generate_pruning_mask(grasp_scores)"
   ]
  },
  {
   "cell_type": "code",
   "execution_count": 324,
   "metadata": {},
   "outputs": [
    {
     "name": "stdout",
     "output_type": "stream",
     "text": [
      "Accuracy at init: 0.11079999804496765\n"
     ]
    }
   ],
   "source": [
    "grasp_model = msk.StaticMaskedModel(masks, keras.models.clone_model(model))\n",
    "grasp_model.set_weights(w_init)\n",
    "print(f\"Accuracy at init: {wrp.simple_accuracy(grasp_model, X_test, y_test)}\")"
   ]
  },
  {
   "cell_type": "code",
   "execution_count": 325,
   "metadata": {},
   "outputs": [],
   "source": [
    "grasp_model.compile(\n",
    "    optimizer=keras.optimizers.Adam(),\n",
    "    loss=loss_fn,\n",
    "    metrics=[\"accuracy\"]\n",
    ")"
   ]
  },
  {
   "cell_type": "code",
   "execution_count": 326,
   "metadata": {},
   "outputs": [
    {
     "name": "stdout",
     "output_type": "stream",
     "text": [
      "469/469 [==============================] - 3s 5ms/step - loss: 0.7689 - accuracy: 0.7758 - val_loss: 0.3557 - val_accuracy: 0.8923\n"
     ]
    }
   ],
   "source": [
    "pruned_fit = grasp_model.fit(\n",
    "    X_train, y_train,\n",
    "    validation_data=(X_test, y_test),\n",
    "    epochs=1,\n",
    "    batch_size=128\n",
    ")"
   ]
  },
  {
   "attachments": {},
   "cell_type": "markdown",
   "metadata": {},
   "source": [
    "## Sparsity vs. Accuracy"
   ]
  },
  {
   "cell_type": "code",
   "execution_count": 333,
   "metadata": {},
   "outputs": [],
   "source": [
    "sparsity_range = np.linspace(0.9, 1., 20)"
   ]
  },
  {
   "cell_type": "code",
   "execution_count": 334,
   "metadata": {},
   "outputs": [
    {
     "name": "stderr",
     "output_type": "stream",
     "text": [
      "100%|██████████| 20/20 [00:54<00:00,  2.72s/it]\n"
     ]
    }
   ],
   "source": [
    "## ProsPr Pruning\n",
    "prospr_scores = scores2\n",
    "accuracy_prospr = []\n",
    "loss_prospr = []\n",
    "\n",
    "for sparsity in tqdm(sparsity_range):\n",
    "    masks = wrp.generate_pruning_mask(\n",
    "        prospr_scores, \n",
    "        sparsity=np.clip(sparsity, a_min=0., a_max=1.))\n",
    "    prospr_model = msk.StaticMaskedModel(masks, keras.models.clone_model(model))\n",
    "    prospr_model.set_weights(w_init)\n",
    "\n",
    "    prospr_model.compile(\n",
    "        optimizer=keras.optimizers.Adam(),\n",
    "        loss=\"categorical_crossentropy\",\n",
    "        metrics=[\"accuracy\"]\n",
    "    )\n",
    "\n",
    "    pruned_fit = prospr_model.fit(\n",
    "        X_train, y_train,\n",
    "        validation_data=(X_test, y_test),\n",
    "        verbose=0,\n",
    "        epochs=1,\n",
    "        batch_size=128\n",
    "    )\n",
    "\n",
    "    accuracy_prospr.append(pruned_fit.history['val_accuracy'])\n",
    "    loss_prospr.append(pruned_fit.history['val_loss'])"
   ]
  },
  {
   "cell_type": "code",
   "execution_count": 335,
   "metadata": {},
   "outputs": [
    {
     "name": "stderr",
     "output_type": "stream",
     "text": [
      "100%|██████████| 20/20 [00:51<00:00,  2.58s/it]\n"
     ]
    }
   ],
   "source": [
    "## GraSp Pruning\n",
    "accuracy_grasp = []\n",
    "loss_grasp = []\n",
    "\n",
    "for sparsity in tqdm(sparsity_range):\n",
    "    masks = wrp.generate_pruning_mask(\n",
    "        grasp_scores, \n",
    "        sparsity=np.clip(sparsity, a_min=0., a_max=1.))\n",
    "    grasp_model = msk.StaticMaskedModel(masks, keras.models.clone_model(model))\n",
    "    grasp_model.set_weights(w_init)\n",
    "\n",
    "    grasp_model.compile(\n",
    "        optimizer=keras.optimizers.Adam(),\n",
    "        loss=\"categorical_crossentropy\",\n",
    "        metrics=[\"accuracy\"]\n",
    "    )\n",
    "\n",
    "    pruned_fit = grasp_model.fit(\n",
    "        X_train, y_train,\n",
    "        validation_data=(X_test, y_test),\n",
    "        verbose=0,\n",
    "        epochs=1,\n",
    "        batch_size=128\n",
    "    )\n",
    "\n",
    "    accuracy_grasp.append(pruned_fit.history['val_accuracy'])\n",
    "    loss_grasp.append(pruned_fit.history['val_loss'])"
   ]
  },
  {
   "cell_type": "code",
   "execution_count": 336,
   "metadata": {},
   "outputs": [
    {
     "name": "stderr",
     "output_type": "stream",
     "text": [
      "100%|██████████| 20/20 [00:52<00:00,  2.63s/it]\n"
     ]
    }
   ],
   "source": [
    "## Random Pruning\n",
    "weight_shapes = [var.shape for var in model.trainable_weights]\n",
    "accuracy_random = []\n",
    "loss_random = []\n",
    "\n",
    "for sparsity in tqdm(sparsity_range):\n",
    "    masks = wrp.generate_random_pruning_mask(\n",
    "        weight_shapes, \n",
    "        sparsity=sparsity)\n",
    "    pruned_model = msk.StaticMaskedModel(masks, keras.models.clone_model(model))\n",
    "    pruned_model.set_weights(w_init)\n",
    "\n",
    "    pruned_model.compile(\n",
    "        optimizer=keras.optimizers.Adam(),\n",
    "        loss=\"categorical_crossentropy\",\n",
    "        metrics=[\"accuracy\"]\n",
    "    )\n",
    "\n",
    "    pruned_fit = pruned_model.fit(\n",
    "        X_train, y_train,\n",
    "        validation_data=(X_test, y_test),\n",
    "        verbose=0,\n",
    "        epochs=1,\n",
    "        batch_size=128\n",
    "    )\n",
    "\n",
    "    accuracy_random.append(pruned_fit.history['val_accuracy'])\n",
    "    loss_random.append(pruned_fit.history['val_loss'])"
   ]
  },
  {
   "cell_type": "code",
   "execution_count": 337,
   "metadata": {},
   "outputs": [],
   "source": [
    "labels_acc  = [\"rand. pruning acc.\",  \"ProsPr acc.\", \"GraSp acc.\"]\n",
    "labels_loss = [\"rand. pruning loss\", \"ProsPr loss\", \"GraSp loss\"]\n",
    "data_acc  = [accuracy_random, accuracy_prospr, accuracy_grasp]\n",
    "data_loss = [    loss_random,     loss_prospr,     loss_grasp]\n",
    "lines_acc  = [\"k-\",  \"r-\",  \"g-\"]\n",
    "lines_loss = [\"k--\", \"r--\", \"g--\"]"
   ]
  },
  {
   "cell_type": "code",
   "execution_count": 338,
   "metadata": {},
   "outputs": [
    {
     "data": {
      "image/png": "[encoded data removed]",
      "text/plain": [
       "<Figure size 1152x720 with 2 Axes>"
      ]
     },
     "metadata": {
      "needs_background": "light"
     },
     "output_type": "display_data"
    }
   ],
   "source": [
    "fig, ax0 = plt.subplots(figsize=(16, 10))\n",
    "ax1 = ax0.twinx()\n",
    "ax0.set_title(\"Accuracy and Loss vs. Sparsity\", fontsize=22)\n",
    "\n",
    "plt_acc  = [ax0.plot(sparsity_range, data, line, label=label) \n",
    "    for data, line, label in zip(data_acc, lines_acc, labels_acc)]\n",
    "plt_loss = [ax1.plot(sparsity_range, data, line, label=label) \n",
    "    for data, line, label in zip(data_loss, lines_loss, labels_loss)]\n",
    "\n",
    "ax1.set_ylabel(\"Loss\", fontsize=18)\n",
    "ax0.set_xlabel(\"Sparsity\", fontsize=18)\n",
    "ax0.set_ylabel(\"Accuracy\", fontsize=18)\n",
    "ax0.grid()\n",
    "lns = [l[0] for l in plt_acc + plt_loss]\n",
    "labs = [l.get_label() for l in lns]\n",
    "ax1.legend(lns, labs, loc='center left', fontsize=18)\n",
    "plt.show()\n",
    "plt.close()"
   ]
  },
  {
   "cell_type": "code",
   "execution_count": null,
   "metadata": {},
   "outputs": [],
   "source": []
  }
 ],
 "metadata": {
  "kernelspec": {
   "display_name": "tensorflow-gpu",
   "language": "python",
   "name": "python3"
  },
  "language_info": {
   "codemirror_mode": {
    "name": "ipython",
    "version": 3
   },
   "file_extension": ".py",
   "mimetype": "text/x-python",
   "name": "python",
   "nbconvert_exporter": "python",
   "pygments_lexer": "ipython3",
   "version": "3.9.12"
  },
  "orig_nbformat": 4,
  "vscode": {
   "interpreter": {
    "hash": "9da7387ac238462230b0dbd9bf3fc9372aae1b82f76d8141914412c04a1575e6"
   }
  }
 },
 "nbformat": 4,
 "nbformat_minor": 2
}
