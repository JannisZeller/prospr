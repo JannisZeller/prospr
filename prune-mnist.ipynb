{
 "cells": [
  {
   "attachments": {},
   "cell_type": "markdown",
   "metadata": {},
   "source": [
    "# Pruning Neural Networks at Init\n",
    "\n",
    "---\n",
    "\n",
    "This is a take at pruning Networks before training on MNIST data. The Notebook explains the used operations etc."
   ]
  },
  {
   "attachments": {},
   "cell_type": "markdown",
   "metadata": {},
   "source": [
    "## Imports and Data-Preparation"
   ]
  },
  {
   "cell_type": "code",
   "execution_count": 254,
   "metadata": {},
   "outputs": [],
   "source": [
    "## Settings\n",
    "model_type = \"LeNet5\"  ## Choice of \"LeNet5\" and \"Dense\""
   ]
  },
  {
   "cell_type": "code",
   "execution_count": 255,
   "metadata": {},
   "outputs": [],
   "source": [
    "## Tensorflow related\n",
    "import tensorflow as tf; tf.random.set_seed(42)\n",
    "import tensorflow.keras as keras\n",
    "import tensorflow.keras.layers as layers\n",
    "from tensorflow.keras.layers import Conv2D, Dense\n",
    "\n",
    "## General\n",
    "import numpy as np; np.random.seed(42)\n",
    "import matplotlib.pyplot as plt\n",
    "from tqdm import tqdm\n",
    "\n",
    "## Importing Pruned Model\n",
    "import sys; \n",
    "if \"..\\\\\" not in sys.path: sys.path.append(\"..\\\\\")\n",
    "import src.masked_keras as msk\n",
    "import src.wrappers as wrp"
   ]
  },
  {
   "cell_type": "code",
   "execution_count": 256,
   "metadata": {},
   "outputs": [],
   "source": [
    "from importlib import reload\n",
    "wrp = reload(wrp)\n",
    "msk = reload(msk)"
   ]
  },
  {
   "cell_type": "code",
   "execution_count": 257,
   "metadata": {},
   "outputs": [],
   "source": [
    "## Fetch Mnist-Dataset\n",
    "(X_train, y_train), (X_test, y_test) = wrp.load_mnist() # 10000\n",
    "num_classes = 10\n",
    "## Pad if necessairy\n",
    "if model_type == \"LeNet5\":\n",
    "    X_train = np.pad(X_train, ((0,0),(2,2),(2,2),(0,0)), 'constant')\n",
    "    X_test  = np.pad(X_test,  ((0,0),(2,2),(2,2),(0,0)), 'constant')"
   ]
  },
  {
   "attachments": {},
   "cell_type": "markdown",
   "metadata": {},
   "source": [
    "---"
   ]
  },
  {
   "attachments": {},
   "cell_type": "markdown",
   "metadata": {},
   "source": [
    "## Defining the Model and Loss"
   ]
  },
  {
   "cell_type": "code",
   "execution_count": 258,
   "metadata": {},
   "outputs": [],
   "source": [
    "## Defining the Model with Sequential API\n",
    "if model_type == \"Dense\":\n",
    "    def get_model(w_init=None):\n",
    "        model = keras.Sequential([\n",
    "            layers.Flatten(input_shape=X_train.shape[1:]),\n",
    "            layers.Dense(128, activation=\"relu\"),\n",
    "            layers.Dense(128, activation=\"relu\"),\n",
    "            layers.Dense(128, activation=\"relu\"),\n",
    "            layers.Dense(num_classes, activation=\"softmax\")])\n",
    "        if w_init: \n",
    "            model.set_weights(w_init)\n",
    "        return model\n",
    "\n",
    "if model_type == \"LeNet5\":\n",
    "    def get_model(w_init=None):\n",
    "        model = keras.Sequential([\n",
    "            layers.Conv2D(filters=6, kernel_size=(3, 3), activation='relu', \n",
    "                input_shape=X_train.shape[1:]),\n",
    "            layers.AveragePooling2D(),\n",
    "            layers.Conv2D(filters=16, kernel_size=(3, 3), activation='relu'),\n",
    "            layers.AveragePooling2D(),\n",
    "            layers.Flatten(),\n",
    "            # layers.Dense(units=120, activation='relu'),\n",
    "            layers.Dense(units=84, activation='relu'),\n",
    "            layers.Dense(units=10, activation = 'softmax')])\n",
    "        if w_init: \n",
    "            model.set_weights(w_init)\n",
    "        return model\n",
    "\n",
    "## Extract init-model weights for training after pruning\n",
    "model = get_model()\n",
    "w_init = model.get_weights()\n",
    "\n",
    "## Shortcut for masked model\n",
    "def get_masked_model(trainable_mask: bool, masks=None):\n",
    "    model = get_model()\n",
    "    model.set_weights(w_init)\n",
    "    if masks is None:\n",
    "        masks = [tf.ones_like(w) for w in model.trainable_weights]\n",
    "    if trainable_mask:\n",
    "        return msk.TrackableMaskedModel(masks, model)\n",
    "    else:\n",
    "        return msk.StaticMaskedModel(masks, model)"
   ]
  },
  {
   "cell_type": "code",
   "execution_count": 259,
   "metadata": {},
   "outputs": [],
   "source": [
    "loss_fn = keras.losses.CategoricalCrossentropy()"
   ]
  },
  {
   "cell_type": "code",
   "execution_count": 260,
   "metadata": {},
   "outputs": [
    {
     "name": "stdout",
     "output_type": "stream",
     "text": [
      "Test-Accuracy at init: 0.11\n"
     ]
    }
   ],
   "source": [
    "print(f\"Test-Accuracy at init: {wrp.model_accuracy(model, X_test, y_test):.2f}\")"
   ]
  },
  {
   "attachments": {},
   "cell_type": "markdown",
   "metadata": {},
   "source": [
    "---"
   ]
  },
  {
   "attachments": {},
   "cell_type": "markdown",
   "metadata": {},
   "source": [
    "## GraSP Pruning"
   ]
  },
  {
   "attachments": {},
   "cell_type": "markdown",
   "metadata": {},
   "source": [
    "Pruning logic by from [Wang, et al. (2020)](https://openreview.net/pdf?id=SkgsACVKPH). They exploit the following property: Let $N, F\\in \\mathbb N$\n",
    "$$\n",
    "    \\mathbf f:\\mathbb R^F \\to \\mathbb R^N, \\ \\mathbf x \\mapsto \\mathbf f(\\mathbf x)\\, .\n",
    "$$\n",
    "Furthermore let $\\mathbf v \\in \\mathbb R^F$, such that $\\mathbf f(\\mathbf x)^T\\mathbf v \\in \\mathbb R$. Then\n",
    "$$\\begin{align*}\n",
    "    \\Big[ \\nabla_{\\mathbf x} \\big(\\mathbf f(\\mathbf x)^T \\mathbf v\\big)\\Big]_i &= \\frac{\\partial}{\\partial x_i} \\big(\\mathbf f(\\mathbf x)^T \\mathbf v\\big) = \\frac{\\partial}{\\partial x_i} \\sum_{j=1}^N f_j(\\mathbf x) v_j \\\\\n",
    "    &= \\sum_{j=1}^N \\frac{\\partial f_j(\\mathbf x)}{\\partial x_i} v_j = \\big[ D\\mathbf f(\\mathbf x)^T \\,\\mathbf v \\big]_i \\, .\n",
    "\\end{align*}$$\n",
    "This can be used to calculate Jacobian-vector-producs using only gradients. Specifically for $\\mathbf f$ being the gradient of some scalar function $\\varphi(\\mathbf x)$ this yields for the Hessian-vector-product (Hessians are symmetric under smoothness conditions):\n",
    "$$\n",
    "    H\\varphi(\\mathbf x) \\, \\mathbf v = \\nabla \\Big( \\nabla \\varphi^T \\mathbf v \\Big)\\, .\n",
    "$$\n",
    "Using the gradient but already evaluated at some $\\mathbf x_0$ (equiv to <span style=\"color:#4bc9b0;font-family:'CaskaydiaCove NF', 'Cascadia Code', Consolas, monospace\">tf</span><span style=\"color:white;font-family:'CaskaydiaCove NF', 'Cascadia Code', Consolas, monospace\">.</span><span style=\"color:#dcdcaa;font-family:'CaskaydiaCove NF', 'Cascadia Code', Consolas, monospace\">stop_gradient</span>) this yields the formula used in the paper (p. 5). This is then called the Hessian-gradient product, i. e. <span style=\"color:#9cdcfe;font-family:'CaskaydiaCove NF', 'Cascadia Code', Consolas, monospace\">Hvp</span>.\n",
    "\n",
    "Maybe also take a look at the minimal example in the [auxiliary notebook](./_aux.ipynb). Below I show how to also calulate the <span style=\"color:#9cdcfe;font-family:'CaskaydiaCove NF', 'Cascadia Code', Consolas, monospace\">Hvp</span> using a <span style=\"color:#4bc9b0;font-family:'CaskaydiaCove NF', 'Cascadia Code', Consolas, monospace\">Forward</span><span style=\"color:white;font-family:'CaskaydiaCove NF', 'Cascadia Code', Consolas, monospace\">.</span><span style=\"color:#dcdcaa;font-family:'CaskaydiaCove NF', 'Cascadia Code', Consolas, monospace\">Accumulator</span> which explicitly implements jacobian-vector-products. "
   ]
  },
  {
   "cell_type": "code",
   "execution_count": 261,
   "metadata": {},
   "outputs": [],
   "source": [
    "## Reset Model\n",
    "model = get_model()\n",
    "model.set_weights(w_init)\n",
    "\n",
    "## GraSp batch:\n",
    "X_grasp, y_grasp = wrp.random_batch(X_train, y_train, batch_size=512)"
   ]
  },
  {
   "cell_type": "code",
   "execution_count": 262,
   "metadata": {},
   "outputs": [],
   "source": [
    "## Pruning Scores:\n",
    "with tf.GradientTape(persistent=True) as outer_tape:\n",
    "    with tf.GradientTape() as inner_tape:\n",
    "        y_pred = model(X_grasp)\n",
    "        loss = loss_fn(y_grasp, y_pred)\n",
    "    gradients = inner_tape.gradient(loss, model.trainable_variables)\n",
    "    int_Hgp = tf.reduce_sum([tf.reduce_sum(g * tf.stop_gradient(g)) for g in gradients])\n",
    "Hgps = outer_tape.gradient(int_Hgp, model.trainable_variables)"
   ]
  },
  {
   "cell_type": "code",
   "execution_count": 263,
   "metadata": {},
   "outputs": [],
   "source": [
    "## Plain Hessian-gradient-product\n",
    "with tf.autodiff.ForwardAccumulator(\n",
    "    model.trainable_variables,\n",
    "    gradients) as acc:\n",
    "    with tf.GradientTape() as tape:\n",
    "        y_pred = model(X_grasp)\n",
    "        loss = loss_fn(y_grasp, y_pred)\n",
    "    gradients_new = tape.gradient(loss, model.trainable_variables)\n",
    "Hgps_acc = acc.jvp(gradients_new)"
   ]
  },
  {
   "cell_type": "code",
   "execution_count": 264,
   "metadata": {},
   "outputs": [
    {
     "data": {
      "text/plain": [
       "[True, True, True, True, True, True, True, True]"
      ]
     },
     "execution_count": 264,
     "metadata": {},
     "output_type": "execute_result"
    }
   ],
   "source": [
    "[np.allclose(Hgp1, Hgp2) for Hgp1, Hgp2 in zip(Hgps, Hgps_acc)]"
   ]
  },
  {
   "cell_type": "code",
   "execution_count": 265,
   "metadata": {},
   "outputs": [],
   "source": [
    "## Calculating the scores:\n",
    "grasp_scores = [w*Hgp for w, Hgp in zip(model.trainable_weights, Hgps)]"
   ]
  },
  {
   "attachments": {},
   "cell_type": "markdown",
   "metadata": {},
   "source": [
    "## Train a GraSP-pruned Model"
   ]
  },
  {
   "cell_type": "code",
   "execution_count": 266,
   "metadata": {},
   "outputs": [
    {
     "name": "stdout",
     "output_type": "stream",
     "text": [
      "Accuracy at init: 0.10\n"
     ]
    }
   ],
   "source": [
    "grasp_masks = wrp.generate_pruning_mask(grasp_scores, sparsity=0.9)\n",
    "grasp_model = get_masked_model(trainable_mask=False, masks=grasp_masks)\n",
    "print(f\"Accuracy at init: {wrp.model_accuracy(grasp_model, X_test, y_test):.2f}\")"
   ]
  },
  {
   "cell_type": "code",
   "execution_count": 267,
   "metadata": {},
   "outputs": [],
   "source": [
    "grasp_model.compile(\n",
    "    optimizer=keras.optimizers.Adam(),\n",
    "    loss=loss_fn,\n",
    "    metrics=[\"accuracy\"]\n",
    ")"
   ]
  },
  {
   "cell_type": "code",
   "execution_count": 268,
   "metadata": {},
   "outputs": [
    {
     "name": "stdout",
     "output_type": "stream",
     "text": [
      "469/469 [==============================] - 2s 4ms/step - loss: 1.7521 - accuracy: 0.3851 - val_loss: 0.6642 - val_accuracy: 0.7871\n"
     ]
    }
   ],
   "source": [
    "pruned_fit = grasp_model.fit(\n",
    "    X_train, y_train,\n",
    "    validation_data=(X_test, y_test),\n",
    "    epochs=1,\n",
    "    batch_size=128,\n",
    "    verbose=1\n",
    ")"
   ]
  },
  {
   "attachments": {},
   "cell_type": "markdown",
   "metadata": {},
   "source": [
    "---"
   ]
  },
  {
   "attachments": {},
   "cell_type": "markdown",
   "metadata": {},
   "source": [
    "## ProsPr Pruning\n",
    "\n",
    "Pruning logic from [Alizadeh et al. (2022)](https://arxiv.org/pdf/2202.08132.pdf). Custom training loop modified from [Géron (2019)](https://www.oreilly.com/library/view/hands-on-machine-learning/9781492032632/). "
   ]
  },
  {
   "attachments": {},
   "cell_type": "markdown",
   "metadata": {},
   "source": [
    "### Plain-Meta Gradient"
   ]
  },
  {
   "attachments": {},
   "cell_type": "markdown",
   "metadata": {},
   "source": [
    "First I show that it is not possible (using a typical - depth APIs) to implement the meta-gradient as stated in the reference:\n",
    "$$\\begin{align}\n",
    "    g = \\frac{\\partial}{\\partial \\mathbf c} \\mathcal L(\\mathbf{w}_M) = \\frac{\\partial \\mathcal L(\\mathbf{w}_M)}{\\partial \\mathbf{w}_M} \\Bigg[ \\prod_{m=1}^M \\underbrace{\\frac{\\partial \\mathbf{w}_m}{\\partial \\mathbf{w}_{m-1}}}_{\\Gamma_m} \\Bigg] \\cdot \\mathbf{w}_{\\textsf{init}}\n",
    "\\end{align}$$\n",
    "with <span style=\"color:#4bc9b0;font-family:'CaskaydiaCove NF', 'Cascadia Code', Consolas, monospace\">tensorflow</span>. To enable the autodiff engine to keep track of the masks ($c$'s), it is necessairy to override the forward passes of the model's layers such that the inputs are directly affected by the weights and they can be used as model-parameters. Yet this should only happen for the first batch (cf. Alizadeh et al., 2022, pp. 3-4)."
   ]
  },
  {
   "cell_type": "code",
   "execution_count": 269,
   "metadata": {},
   "outputs": [
    {
     "name": "stdout",
     "output_type": "stream",
     "text": [
      "Masking <keras.layers.convolutional.Conv2D object at 0x000001C6FA27FAF0>\n",
      "Masking <keras.layers.convolutional.Conv2D object at 0x000001C6FA37FCD0>\n",
      "Masking <keras.layers.core.Dense object at 0x000001C6FA374D30>\n",
      "Masking <keras.layers.core.Dense object at 0x000001C6FA374940>\n",
      "All suitable? True\n",
      "Trainable vars kept? True\n"
     ]
    }
   ],
   "source": [
    "## Checking if `first_call` reset works\n",
    "mask_factor = 1\n",
    "model = get_model(w_init)\n",
    "full_masks = [tf.ones_like(w) for w in model.trainable_weights]\n",
    "masked_model = msk.TrackableMaskedModel(full_masks, model)\n",
    "\n",
    "X_batch, y_batch = wrp.non_random_batch(X_train, y_train, 0, 256)\n",
    "w_names_old = [w.name for w in masked_model.trainable_weights]\n",
    "test1 = masked_model.layers[0].layers[0](X_batch)\n",
    "_ = masked_model(X_batch)\n",
    "masked_model.unmask_forward_passes()\n",
    "test2 = masked_model.layers[0].layers[0](X_batch)\n",
    "print(\"All suitable?\", np.all(test1 == mask_factor*test2))\n",
    "print(\"Trainable vars kept?\", \n",
    "    w_names_old == [w.name for w in masked_model.trainable_weights])"
   ]
  },
  {
   "cell_type": "markdown",
   "metadata": {},
   "source": [
    "Still the problem with <span style=\"color:#4bc9b0;font-family:'CaskaydiaCove NF', 'Cascadia Code', Consolas, monospace\">tensorflow</span> in this scenario is, that it is not possible to track parameters through <span style=\"color:#dcdcaa;font-family:'CaskaydiaCove NF', 'Cascadia Code', Consolas, monospace\">assign</span>-operations, i. e. through multiple batch-update steps. \n",
    "\n",
    "The following cells shows the minimal example using $w'(c) = w\\cdot c$, $f = 2\\cdot w'$. This should yield:\n",
    "$$\\begin{align*}\n",
    "    f \\Big\\vert_{w=4,\\ c=2} &= 2\\cdot w\\cdot c \\Big\\vert_{w=4,\\ c=2} = 16 \\, , \\\\\n",
    "    \\frac{\\partial}{\\partial c} f \\Big\\vert_{w=4,\\ c=2} &= 2w \\Big\\vert_{w=4} = 8\n",
    "\\end{align*}$$"
   ]
  },
  {
   "cell_type": "code",
   "execution_count": 270,
   "metadata": {},
   "outputs": [
    {
     "name": "stdout",
     "output_type": "stream",
     "text": [
      "f = 16\n",
      "df/dc = None\n"
     ]
    }
   ],
   "source": [
    "w = tf.Variable([4.])\n",
    "c = tf.Variable([2.])\n",
    "\n",
    "with tf.GradientTape() as tape:\n",
    "    tape.watch(c)\n",
    "    w.assign(w * c)\n",
    "    f = 2. * w\n",
    "\n",
    "print(f\"f = {f.numpy()[0]:.0f}\")\n",
    "print(f\"df/dc = {tape.gradient(f, c)}\")"
   ]
  },
  {
   "attachments": {},
   "cell_type": "markdown",
   "metadata": {},
   "source": [
    "This yields the following problem (I have opened a [stackoverflow question](https://stackoverflow.com/q/75185053/19838867) regaring this): The gradients w. r. t. the masks are `None`. The problem also occurs with a <span style=\"color:#9cdcfe;font-family:'CaskaydiaCove NF', 'Cascadia Code', Consolas, monospace\">test_factor</span>, that I multiply to the first loss for test purposes:"
   ]
  },
  {
   "cell_type": "code",
   "execution_count": 271,
   "metadata": {},
   "outputs": [
    {
     "name": "stdout",
     "output_type": "stream",
     "text": [
      "Masking <keras.layers.convolutional.Conv2D object at 0x000001C6FA37C160>\n",
      "Masking <keras.layers.convolutional.Conv2D object at 0x000001C6FA37CA00>\n",
      "Masking <keras.layers.core.Dense object at 0x000001C6FA37F6D0>\n",
      "Masking <keras.layers.core.Dense object at 0x000001C4A3A1C5B0>\n"
     ]
    }
   ],
   "source": [
    "masked_model = get_masked_model(True)\n",
    "optimizer = keras.optimizers.SGD(learning_rate=0.05)"
   ]
  },
  {
   "cell_type": "code",
   "execution_count": 272,
   "metadata": {},
   "outputs": [
    {
     "name": "stdout",
     "output_type": "stream",
     "text": [
      "ListWrapper([None, None, None, None, None, None, None, None])\n",
      "None\n"
     ]
    }
   ],
   "source": [
    "test_factor = tf.Variable(1., dtype=tf.float32)\n",
    "with tf.GradientTape(persistent=True) as outer_tape:\n",
    "    outer_tape.watch(masked_model.masks)\n",
    "    outer_tape.watch(test_factor)\n",
    "\n",
    "    ## First btach\n",
    "    X_batch, y_batch = wrp.non_random_batch(X_train, y_train, 0, 256)\n",
    "    with tf.GradientTape() as tape1:\n",
    "        y_pred = masked_model(X_batch)\n",
    "        loss = test_factor*loss_fn(y_batch, y_pred)\n",
    "    gradients = tape1.gradient(loss, masked_model.proper_weights)\n",
    "\n",
    "    ## Updating weights\n",
    "    for w, g in zip(masked_model.proper_weights, gradients):\n",
    "        # w = w - 0.05*g # This version yields to no updates being performed on the weights\n",
    "        w.assign(w - 0.05 * g)\n",
    "\n",
    "    ## Unmasking\n",
    "    masked_model.unmask_forward_passes()\n",
    "\n",
    "    ## Second batch (and more)\n",
    "    X_batch, y_batch = wrp.non_random_batch(X_train, y_train, 1, 256)\n",
    "    with tf.GradientTape() as tape2:\n",
    "        y_pred = masked_model(X_batch)\n",
    "        loss = loss_fn(y_batch, y_pred)\n",
    "    gradients = tape2.gradient(loss, masked_model.proper_weights)\n",
    "\n",
    "print(outer_tape.gradient(loss, masked_model.masks))\n",
    "print(outer_tape.gradient(loss, test_factor))"
   ]
  },
  {
   "attachments": {},
   "cell_type": "markdown",
   "metadata": {},
   "source": [
    "Checking if updates have been applied to the weights:"
   ]
  },
  {
   "cell_type": "code",
   "execution_count": 273,
   "metadata": {},
   "outputs": [
    {
     "data": {
      "text/plain": [
       "[False, False, False, False, False, False, False, False]"
      ]
     },
     "execution_count": 273,
     "metadata": {},
     "output_type": "execute_result"
    }
   ],
   "source": [
    "[np.allclose(w1, w2) for w1, w2 in zip(masked_model.proper_weights, w_init)]"
   ]
  },
  {
   "attachments": {},
   "cell_type": "markdown",
   "metadata": {},
   "source": [
    "This would be the full loop if the gradient would work through <span style=\"color:#dcdcaa;font-family:'CaskaydiaCove NF', 'Cascadia Code', Consolas, monospace\">assign</span>-operations:"
   ]
  },
  {
   "cell_type": "code",
   "execution_count": 274,
   "metadata": {},
   "outputs": [],
   "source": [
    "if False:\n",
    "    n_max = 10\n",
    "    with tf.GradientTape() as outer_tape:\n",
    "        outer_tape.watch(masked_model.masks)\n",
    "\n",
    "        ## First weight & iteration: w0 = c * w_init\n",
    "        X_batch, y_batch = wrp.non_random_batch(X_train, y_train, 0, 256)\n",
    "        with tf.GradientTape() as inner_tape:\n",
    "            y_pred = masked_model(X_batch)\n",
    "            loss = loss_fn(y_batch, y_pred)\n",
    "        gradients = inner_tape.gradient(loss, masked_model.proper_weights)\n",
    "        optimizer.apply_gradients(zip(gradients, masked_model.proper_weights)) \n",
    "        \n",
    "        ## Unmasking for rest of iterations\n",
    "        masked_model.unmask_forward_passes()\n",
    "\n",
    "        ## Remaining prune-loop steps\n",
    "        for n in range(1, n_max):\n",
    "            X_batch, y_batch = wrp.non_random_batch(X_train, y_train, n, 256)\n",
    "\n",
    "            with tf.GradientTape() as inner_tape:\n",
    "                y_pred = masked_model(X_batch)\n",
    "                loss = loss_fn(y_batch, y_pred)\n",
    "            gradients = inner_tape.gradient(loss, masked_model.proper_weights)\n",
    "            optimizer.apply_gradients(zip(gradients, masked_model.proper_weights)) \n",
    "\n",
    "            print(f\"Step: {n+1} -- Loss: {loss.numpy():.3f}\", end=\"\\r\")\n",
    "        \n",
    "    meta_gradients = outer_tape.gradient(loss, masked_model.masks)\n",
    "    # scores_meta_g = wrp.compute_prospr_scores_from_meta_g(meta_gradients)\n",
    "    # masks_meta_g = wrp.generate_pruning_mask(scores_meta_g, 0.9)"
   ]
  },
  {
   "attachments": {},
   "cell_type": "markdown",
   "metadata": {},
   "source": [
    "### \"Straming\" Meta-Gradients"
   ]
  },
  {
   "attachments": {},
   "cell_type": "markdown",
   "metadata": {},
   "source": [
    "[Alizadeh et al. (2022)](https://arxiv.org/pdf/2202.08132.pdf) use the following update in the \"prune loop\":\n",
    "$$\n",
    "    \\mathbf{w}_{m+1} = \\mathbf w_m - \\alpha \\frac{\\partial \\mathcal L(\\mathbf{w}_m, \\mathcal D_m)}{\\partial \\mathbf{w}_m} \\, .\n",
    "$$\n",
    "The ProsPr scores are then calculates using eq. (1) which is eq. (10) in their paper on page 4. Using the abbreviation\n",
    "$$\n",
    "    \\Gamma_m = \\mathbf{1} - \\alpha \\underbrace{\\frac{\\partial^2 \\mathcal L(\\mathbf{w}_{m-1}, \\mathcal D_{m-1})}{\\partial \\mathbf{w}_{m-1}^2}}_{\\textsf{Hessian}\\ \\ H\\mathcal L} \\, .\n",
    "$$\n",
    "eq. (1) can be rewritten to\n",
    "$$\n",
    "    g = \\frac{\\partial}{\\partial \\mathbf c} \\mathcal L(\\mathbf{w}_M) = \\frac{\\partial \\mathcal L(\\mathbf{w}_M)}{\\partial \\mathbf{w}_M} \\Bigg[ \\prod_{m=1}^M \\Gamma_m\\Bigg] \\cdot \\mathbf{w}_{\\textsf{init}} \\, .\n",
    "$$\n",
    "Till now, this is consistent with the notation from the paper, with the \"gradients\" notes as partial derivatives. **But note, that in the paper the notation is abused**. Each derivative is simply noted as a gradient, yet there is actually more dimensionality going on. \n",
    "\n",
    "#### Proper Chain Rule Application\n",
    "Assume $\\mathbf w_m \\in \\mathbb R^F$, $F\\in \\mathbb N, \\ m=1,...,M$ and $\\mathcal L: \\mathbb R^F \\to \\mathbb R$. The exact shapes can be tracked by the used package. The mask $c$ would therefore be of shape $\\mathbb R^F$ as well. This would yield: \n",
    "$$\n",
    "    g = \\frac{\\partial}{\\partial \\mathbf c} \\mathcal L \\in \\mathbb R^F = \\nabla_{\\mathbf c} \\mathcal L \\, .\n",
    "$$\n",
    "The chain rule through the update $\\mathbf w$'s would therefore consist of multiple Jacobians:\n",
    "$$\n",
    "    g = (\\nabla_{\\mathbf w_M} \\mathcal L)^T \\Bigg[ \\prod_{m=1}^M (D_{\\mathbf w_{m-1}} w_m) \\Bigg] (D_{\\mathbf c}\\mathbf w_0)\\, .\n",
    "$$\n",
    "Specifically note the last object $D_{\\mathbf c} \\mathbf w_0$ which is acutally not simply $\\mathbf w_{\\textsf{init}}$ as noted in the paper but \n",
    "$$\n",
    "    D_{\\mathbf c} \\mathbf w_0 = \\mathrm{diag}(w_{01}, ..., w_{0F}) \\, .\n",
    "$$\n",
    "The problem is, that these jacobians are two large to track even with easy architechtures as the ones used in this notebook. Trying to run the next cell yields to `OverflowError: Python int too large to convert to C long` (<span style=\"color:#4bc9b0;font-family:'CaskaydiaCove NF', 'Cascadia Code', Consolas, monospace\">tf</span>-version: 2.6.0):"
   ]
  },
  {
   "cell_type": "code",
   "execution_count": 275,
   "metadata": {},
   "outputs": [],
   "source": [
    "if False:\n",
    "    model = get_model(w_init)\n",
    "    masks = [tf.Variable(tf.ones_like(w),\n",
    "        name=w.name[:-2]+\"/mask\")\n",
    "        for w in model.trainable_weights]\n",
    "    weights = [tf.Variable(w.numpy()) for w in model.trainable_weights]\n",
    "\n",
    "    with tf.GradientTape(persistent=True) as tape:\n",
    "        tape.watch(masks)\n",
    "        w0 = [c*w for c, w in zip(masks, weights)]\n",
    "    grad = []\n",
    "    for w0i in w0:\n",
    "        grad.append(tape.jacobian(w0i, masks))"
   ]
  },
  {
   "attachments": {},
   "cell_type": "markdown",
   "metadata": {},
   "source": [
    "The problem is, that this \"direction\" of gradient can not make use of the trackable Jacobian-vetor-products that are already mentiones in the GraSp-Pruning section."
   ]
  },
  {
   "attachments": {},
   "cell_type": "markdown",
   "metadata": {},
   "source": [
    "### Approximative ProsPr Scores"
   ]
  },
  {
   "attachments": {},
   "cell_type": "markdown",
   "metadata": {},
   "source": [
    "Despite the above mentioned problems when trying to implement ProsPr-pruning in <span style=\"color:#4bc9b0;font-family:'CaskaydiaCove NF', 'Cascadia Code', Consolas, monospace\">tensorflow</span> the approximation method [(Alizadeh et al., 2022, p. 5)](https://arxiv.org/pdf/2202.08132.pdf), because this can be framed as a Jacobian-vector-product. Assume the same shapes and notations as above. Then in first-order approximation it is:\n",
    "$$\n",
    "    \\nabla_{\\mathbf c} \\mathcal L = (\\nabla_{\\mathbf w_M} \\mathcal L)^T \\cdot D_{\\mathbf c}\\mathbf w_{0} =  D_{\\mathbf c}\\mathbf w_{0} \\cdot \\nabla_{\\mathbf w_M} \\mathcal L \\, .\n",
    "$$\n",
    "This holds because $D_{\\mathbf c}\\mathbf w_{0}$ is a diagonal matrix and therefore symmetric. $\\nabla_{\\mathbf w_M} \\mathcal L =: \\mathbf v \\in \\mathbb R^F$ can be tracked by <span style=\"color:#4bc9b0;font-family:'CaskaydiaCove NF', 'Cascadia Code', Consolas, monospace\">tensorflow</span>'s autodiff. With the same argument as in the GraSP-pruning section this yields:\n",
    "$$\n",
    "    \\nabla_{\\mathbf c} \\mathcal L = \\nabla_{\\mathbf c} \\big( \\mathbf w_0^T \\mathbf v \\big)\n",
    "$$"
   ]
  },
  {
   "cell_type": "code",
   "execution_count": 276,
   "metadata": {},
   "outputs": [
    {
     "name": "stdout",
     "output_type": "stream",
     "text": [
      "Step: 10 -- Loss: 2.285\r"
     ]
    }
   ],
   "source": [
    "masked_model = get_masked_model(trainable_mask=False)\n",
    "optimizer = keras.optimizers.SGD(0.05)\n",
    "for n in range(10):\n",
    "    X_batch, y_batch = wrp.random_batch(X_train, y_train, 256)\n",
    "\n",
    "    with tf.GradientTape() as inner_tape:\n",
    "        y_pred = masked_model(X_batch)\n",
    "        loss = loss_fn(y_batch, y_pred)\n",
    "    gradients = inner_tape.gradient(loss, masked_model.proper_weights)\n",
    "    optimizer.apply_gradients(zip(gradients, masked_model.proper_weights)) \n",
    "    print(f\"Step: {n+1} -- Loss: {loss.numpy():.3f}\", end=\"\\r\")"
   ]
  },
  {
   "cell_type": "code",
   "execution_count": 277,
   "metadata": {},
   "outputs": [],
   "source": [
    "masks =   [tf.Variable(c) for c in masked_model.get_masks()]\n",
    "weights = [tf.Variable(w) for w in w_init]\n",
    "\n",
    "with tf.GradientTape(persistent=True) as tape:\n",
    "    tape.watch(masks)\n",
    "    w0s = [c*w for c, w in zip(masks, weights)]\n",
    "    integral = tf.reduce_sum(\n",
    "        [tf.reduce_sum(w0 * tf.stop_gradient(g))\n",
    "        for w0, g in zip(w0s, gradients)])\n",
    "meta_gradients = tape.gradient(integral, masks)\n",
    "prospr_scores  = wrp.compute_prospr_scores_from_meta_g(meta_gradients)\n"
   ]
  },
  {
   "attachments": {},
   "cell_type": "markdown",
   "metadata": {},
   "source": [
    "## Train ProsPr-pruned Model"
   ]
  },
  {
   "cell_type": "code",
   "execution_count": 278,
   "metadata": {},
   "outputs": [
    {
     "name": "stdout",
     "output_type": "stream",
     "text": [
      "Accuracy at init: 0.12\n"
     ]
    }
   ],
   "source": [
    "prospr_masks = wrp.generate_pruning_mask(prospr_scores, 0.9)\n",
    "prospr_model = get_masked_model(trainable_mask=False, masks=prospr_masks)\n",
    "\n",
    "print(f\"Accuracy at init: {wrp.model_accuracy(prospr_model, X_test, y_test):.2f}\")\n",
    "\n",
    "prospr_model.compile(\n",
    "    optimizer=keras.optimizers.Adam(),\n",
    "    loss=loss_fn,\n",
    "    metrics=[\"accuracy\"]\n",
    ")"
   ]
  },
  {
   "cell_type": "code",
   "execution_count": 279,
   "metadata": {},
   "outputs": [
    {
     "name": "stdout",
     "output_type": "stream",
     "text": [
      "469/469 [==============================] - 2s 4ms/step - loss: 0.9955 - accuracy: 0.7290 - val_loss: 0.4370 - val_accuracy: 0.8730\n"
     ]
    }
   ],
   "source": [
    "pruned_fit = prospr_model.fit(\n",
    "    X_train, y_train,\n",
    "    validation_data=(X_test, y_test),\n",
    "    epochs=1,\n",
    "    batch_size=128\n",
    ")"
   ]
  },
  {
   "cell_type": "code",
   "execution_count": 280,
   "metadata": {},
   "outputs": [
    {
     "data": {
      "text/plain": [
       "[True, True, True, True, True, True, True, True]"
      ]
     },
     "execution_count": 280,
     "metadata": {},
     "output_type": "execute_result"
    }
   ],
   "source": [
    "## Confirm that the mask has not been trained\n",
    "[np.all(mm == m) for mm, m in zip(prospr_model.masks, prospr_masks)]"
   ]
  },
  {
   "attachments": {},
   "cell_type": "markdown",
   "metadata": {},
   "source": [
    "## Sparsity vs. Accuracy"
   ]
  },
  {
   "cell_type": "code",
   "execution_count": 281,
   "metadata": {},
   "outputs": [],
   "source": [
    "sparsity_range = np.linspace(0.8, 1., 40)"
   ]
  },
  {
   "cell_type": "code",
   "execution_count": 282,
   "metadata": {},
   "outputs": [
    {
     "name": "stderr",
     "output_type": "stream",
     "text": [
      "100%|██████████| 40/40 [01:38<00:00,  2.45s/it]\n"
     ]
    }
   ],
   "source": [
    "## ProsPr Pruning\n",
    "accuracy_prospr = []\n",
    "loss_prospr = []\n",
    "\n",
    "for sparsity in tqdm(sparsity_range):\n",
    "    masks = wrp.generate_pruning_mask(\n",
    "        prospr_scores, \n",
    "        sparsity=np.clip(sparsity, a_min=0., a_max=1.))\n",
    "    prospr_model = get_masked_model(False, masks)\n",
    "\n",
    "    prospr_model.compile(\n",
    "        optimizer=keras.optimizers.Adam(),\n",
    "        loss=\"categorical_crossentropy\",\n",
    "        metrics=[\"accuracy\"]\n",
    "    )\n",
    "\n",
    "    pruned_fit = prospr_model.fit(\n",
    "        X_train, y_train,\n",
    "        validation_data=(X_test, y_test),\n",
    "        verbose=0,\n",
    "        epochs=1,\n",
    "        batch_size=128\n",
    "    )\n",
    "\n",
    "    accuracy_prospr.append(pruned_fit.history['val_accuracy'])\n",
    "    loss_prospr.append(pruned_fit.history['val_loss'])"
   ]
  },
  {
   "cell_type": "code",
   "execution_count": 283,
   "metadata": {},
   "outputs": [
    {
     "name": "stderr",
     "output_type": "stream",
     "text": [
      "100%|██████████| 40/40 [01:34<00:00,  2.37s/it]\n"
     ]
    }
   ],
   "source": [
    "## GraSP Pruning\n",
    "accuracy_grasp = []\n",
    "loss_grasp = []\n",
    "\n",
    "for sparsity in tqdm(sparsity_range):\n",
    "    masks = wrp.generate_pruning_mask(\n",
    "        grasp_scores, \n",
    "        sparsity=np.clip(sparsity, a_min=0., a_max=1.))\n",
    "    grasp_model = get_masked_model(False, masks)\n",
    "\n",
    "    grasp_model.compile(\n",
    "        optimizer=keras.optimizers.Adam(),\n",
    "        loss=\"categorical_crossentropy\",\n",
    "        metrics=[\"accuracy\"]\n",
    "    )\n",
    "\n",
    "    pruned_fit = grasp_model.fit(\n",
    "        X_train, y_train,\n",
    "        validation_data=(X_test, y_test),\n",
    "        verbose=0,\n",
    "        epochs=1,\n",
    "        batch_size=128\n",
    "    )\n",
    "\n",
    "    accuracy_grasp.append(pruned_fit.history['val_accuracy'])\n",
    "    loss_grasp.append(pruned_fit.history['val_loss'])"
   ]
  },
  {
   "cell_type": "code",
   "execution_count": 286,
   "metadata": {},
   "outputs": [
    {
     "name": "stderr",
     "output_type": "stream",
     "text": [
      "100%|██████████| 40/40 [01:38<00:00,  2.46s/it]\n"
     ]
    }
   ],
   "source": [
    "## Random Pruning\n",
    "model = get_model(w_init)\n",
    "weight_shapes = [var.shape for var in model.trainable_weights]\n",
    "accuracy_random = []\n",
    "loss_random = []\n",
    "\n",
    "for sparsity in tqdm(sparsity_range):\n",
    "    masks = wrp.generate_random_pruning_mask(\n",
    "        weight_shapes, \n",
    "        sparsity=sparsity)\n",
    "    random_model = get_masked_model(False, masks)\n",
    "\n",
    "    random_model.compile(\n",
    "        optimizer=keras.optimizers.Adam(),\n",
    "        loss=\"categorical_crossentropy\",\n",
    "        metrics=[\"accuracy\"]\n",
    "    )\n",
    "\n",
    "    pruned_fit = random_model.fit(\n",
    "        X_train, y_train,\n",
    "        validation_data=(X_test, y_test),\n",
    "        verbose=0,\n",
    "        epochs=1,\n",
    "        batch_size=128\n",
    "    )\n",
    "\n",
    "    accuracy_random.append(pruned_fit.history['val_accuracy'])\n",
    "    loss_random.append(pruned_fit.history['val_loss'])"
   ]
  },
  {
   "cell_type": "code",
   "execution_count": 287,
   "metadata": {},
   "outputs": [],
   "source": [
    "labels_acc  = [\"rand. pruning acc.\", \"ProsPr acc.\", \"GraSp acc.\"]\n",
    "labels_loss = [\"rand. pruning loss\", \"ProsPr loss\", \"GraSp loss\"]\n",
    "data_acc  = [accuracy_random, accuracy_prospr, accuracy_grasp]\n",
    "data_loss = [    loss_random,     loss_prospr,     loss_grasp]\n",
    "lines_acc  = [\"k-\",  \"r-\",  \"g-\"]\n",
    "lines_loss = [\"k--\", \"r--\", \"g--\"]"
   ]
  },
  {
   "cell_type": "code",
   "execution_count": 288,
   "metadata": {},
   "outputs": [
    {
     "data": {
      "image/png": "[encoded data removed]",
      "text/plain": [
       "<Figure size 1152x720 with 2 Axes>"
      ]
     },
     "metadata": {
      "needs_background": "light"
     },
     "output_type": "display_data"
    }
   ],
   "source": [
    "fig, ax0 = plt.subplots(figsize=(16, 10))\n",
    "ax1 = ax0.twinx()\n",
    "ax0.set_title(\"Accuracy and Loss vs. Sparsity\", fontsize=22)\n",
    "\n",
    "plt_acc  = [ax0.plot(sparsity_range, data, line, label=label) \n",
    "    for data, line, label in zip(data_acc, lines_acc, labels_acc)]\n",
    "plt_loss = [ax1.plot(sparsity_range, data, line, label=label) \n",
    "    for data, line, label in zip(data_loss, lines_loss, labels_loss)]\n",
    "\n",
    "ax1.set_ylabel(\"Loss\", fontsize=18)\n",
    "ax0.set_xlabel(\"Sparsity\", fontsize=18)\n",
    "ax0.set_ylabel(\"Accuracy\", fontsize=18)\n",
    "ax0.grid()\n",
    "lns = [l[0] for l in plt_acc + plt_loss]\n",
    "labs = [l.get_label() for l in lns]\n",
    "ax1.legend(lns, labs, loc='center left', fontsize=18)\n",
    "plt.show()\n",
    "plt.close()"
   ]
  }
 ],
 "metadata": {
  "kernelspec": {
   "display_name": "tensorflow-gpu",
   "language": "python",
   "name": "python3"
  },
  "language_info": {
   "codemirror_mode": {
    "name": "ipython",
    "version": 3
   },
   "file_extension": ".py",
   "mimetype": "text/x-python",
   "name": "python",
   "nbconvert_exporter": "python",
   "pygments_lexer": "ipython3",
   "version": "3.9.12"
  },
  "orig_nbformat": 4,
  "vscode": {
   "interpreter": {
    "hash": "9da7387ac238462230b0dbd9bf3fc9372aae1b82f76d8141914412c04a1575e6"
   }
  }
 },
 "nbformat": 4,
 "nbformat_minor": 2
}
